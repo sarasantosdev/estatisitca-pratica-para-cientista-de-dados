{
  "cells": [
    {
      "cell_type": "markdown",
      "metadata": {
        "id": "view-in-github",
        "colab_type": "text"
      },
      "source": [
        "<a href=\"https://colab.research.google.com/github/sarasantosdev/estatisitca-pratica-para-cientista-de-dados/blob/main/statistics.ipynb\" target=\"_parent\"><img src=\"https://colab.research.google.com/assets/colab-badge.svg\" alt=\"Open In Colab\"/></a>"
      ]
    },
    {
      "cell_type": "markdown",
      "id": "c04c7903-0f46-4ff7-a5eb-2c9b50e0fc11",
      "metadata": {
        "id": "c04c7903-0f46-4ff7-a5eb-2c9b50e0fc11"
      },
      "source": [
        "# Estatistica Prática para Cientista de Dados: 50 conceitos essenciais"
      ]
    },
    {
      "cell_type": "markdown",
      "id": "db9b82b9-1f19-4c09-8436-787f3aebd64d",
      "metadata": {
        "id": "db9b82b9-1f19-4c09-8436-787f3aebd64d"
      },
      "source": [
        "## Capítulo 1: Análise Exploratória de Dados"
      ]
    },
    {
      "cell_type": "markdown",
      "id": "8b5a9810-73ca-41ec-bb56-5ff20b66373e",
      "metadata": {
        "id": "8b5a9810-73ca-41ec-bb56-5ff20b66373e"
      },
      "source": [
        "### Estimativas de Localização (tendência central)\n",
        "É comum as variáveis apresentarem valores distintos, para que possamos ter um valor central onde os dados se concentram utilizamos as estimativas de localização, as mais utilizadas são: média aritmética, média aparada, média ponderada, mediana e mediana ponderada. Abaixo realizo o cálculo da média aritmética e a média aparada para que possamos compreender o impacto dos valores extremos."
      ]
    },
    {
      "cell_type": "markdown",
      "id": "8c536b2d-3289-4aa3-af99-bdaabc43cb0f",
      "metadata": {
        "id": "8c536b2d-3289-4aa3-af99-bdaabc43cb0f"
      },
      "source": [
        "### Média aritmética\n",
        "É a média mais simples. Calcula-se a soma dos valores e divide pelo total de valores. Apesar de ser simples, é uma medida sensível a outliers inferiores e superiores, o que pode distorcer o resultado final, por isso foram desenvolvidas outras medidas como alternativa a média para que possamos ser o mais próximo do valor central possível.\n",
        "\n",
        "Outliers altos podem elevar o resultado da média, enquanto que outliers baixos podem decair o resultado da média, é preciso portanto haver uma espécie de \"equilíbrio\" entre os valores. Abaixo calculo a média aritmética de uma lista com dois outliers."
      ]
    },
    {
      "cell_type": "code",
      "execution_count": 21,
      "id": "d063c27f-93b9-4b35-839c-f3454b7a4863",
      "metadata": {
        "id": "d063c27f-93b9-4b35-839c-f3454b7a4863"
      },
      "outputs": [],
      "source": [
        "numeros = [12, 15, 14, 13, 16, 18, 20, 22, 19, 17, 14, 13, 15, 16, 200, 21, 23, 24, 22, 18, 17, 16, 15, 14, 13, 12, 11, 10, 9, -50]"
      ]
    },
    {
      "cell_type": "code",
      "execution_count": 22,
      "id": "2c80e78f-89b3-4d4f-9827-e3636ec6cd8d",
      "metadata": {
        "id": "2c80e78f-89b3-4d4f-9827-e3636ec6cd8d"
      },
      "outputs": [],
      "source": [
        "soma  = 0\n",
        "media = 0"
      ]
    },
    {
      "cell_type": "code",
      "execution_count": 23,
      "id": "2df4668d-3c7f-403e-b635-f94243cb1503",
      "metadata": {
        "colab": {
          "base_uri": "https://localhost:8080/"
        },
        "id": "2df4668d-3c7f-403e-b635-f94243cb1503",
        "outputId": "f2ef91a7-fe74-44db-a17c-e4ae7ace1138"
      },
      "outputs": [
        {
          "output_type": "stream",
          "name": "stdout",
          "text": [
            "19.97\n"
          ]
        }
      ],
      "source": [
        "for n in numeros:\n",
        "    soma += n\n",
        "media = soma / len(numeros)\n",
        "print(round(media, 2))"
      ]
    },
    {
      "cell_type": "markdown",
      "id": "075a390a-427f-49c1-a2c6-ad31a8d08376",
      "metadata": {
        "id": "075a390a-427f-49c1-a2c6-ad31a8d08376"
      },
      "source": [
        "### Média aparada\n",
        "A média aparada remove os valores extremos que estejam afetando a média. É uma medida boa, contudo é preciso estar atento a perda de informação, aconselha-se criar uma cópia dos dados anteriores antes de rmeover os valores. Após a remoção dos outliers podemos calcular a média aritmética normalmente, claro que o tamanho da amostra será alterado e deve ser levado em consideração. Outra etapa importante para o cálculo da média aparada é a ordenação dos valores da lista, isso porque ela irá remover os valores das pontas, tantos os inferiores quanto os superiores."
      ]
    },
    {
      "cell_type": "markdown",
      "id": "cf46962d-e2e0-4994-97ab-e274d9d1af92",
      "metadata": {
        "id": "cf46962d-e2e0-4994-97ab-e274d9d1af92"
      },
      "source": [
        "### Explicando o exemplo\n",
        "No exemplo abaixo é aparado dois valores extremos de forma manual, contudo a média aparada não lida com valores discretos e fixos, ela lida com percentual de remoção. No caso do nosso exemplo o percentual de remoção é de 6,66%, ou seja, 3,33% de cada ponta. No caso de não sabermos a quantidade exata de outliers devemos levar em consideração a análise realizada para aplicar o percentual correto de aparação, afinal perderemos informação, é preciso agir com cautela."
      ]
    },
    {
      "cell_type": "code",
      "execution_count": 24,
      "id": "b1de829e-d7dc-475b-ae10-dce75688694b",
      "metadata": {
        "id": "b1de829e-d7dc-475b-ae10-dce75688694b"
      },
      "outputs": [],
      "source": [
        "copia_numeros = numeros.copy()"
      ]
    },
    {
      "cell_type": "code",
      "execution_count": 25,
      "id": "4b39a938-2b18-46d4-bb8c-fc8b4f4e20d2",
      "metadata": {
        "colab": {
          "base_uri": "https://localhost:8080/"
        },
        "id": "4b39a938-2b18-46d4-bb8c-fc8b4f4e20d2",
        "outputId": "9a3a8e30-99ce-44b2-e776-0578fcee2121"
      },
      "outputs": [
        {
          "output_type": "stream",
          "name": "stdout",
          "text": [
            "[-50, 9, 10, 11, 12, 12, 13, 13, 13, 14, 14, 14, 15, 15, 15, 16, 16, 16, 17, 17, 18, 18, 19, 20, 21, 22, 22, 23, 24, 200]\n"
          ]
        }
      ],
      "source": [
        "copia_numeros.sort()\n",
        "print(copia_numeros)"
      ]
    },
    {
      "cell_type": "markdown",
      "id": "d62adf3f-06ce-4a70-b125-3f02e332de7c",
      "metadata": {
        "id": "d62adf3f-06ce-4a70-b125-3f02e332de7c"
      },
      "source": [
        "Podemos verificar que os valores extremos são -50 e 200. Esses valores estão alterando o resultado final da média, vamos removê-los."
      ]
    },
    {
      "cell_type": "code",
      "execution_count": 26,
      "id": "6dc86dd8-a892-4a53-9c93-1a09e88e7397",
      "metadata": {
        "colab": {
          "base_uri": "https://localhost:8080/"
        },
        "id": "6dc86dd8-a892-4a53-9c93-1a09e88e7397",
        "outputId": "3a954be4-c48d-423e-bb09-96b07e794049"
      },
      "outputs": [
        {
          "output_type": "stream",
          "name": "stdout",
          "text": [
            "[9, 10, 11, 12, 12, 13, 13, 13, 14, 14, 14, 15, 15, 15, 16, 16, 16, 17, 17, 18, 18, 19, 20, 21, 22, 22, 23, 24]\n"
          ]
        }
      ],
      "source": [
        "copia_numeros.remove(-50)\n",
        "copia_numeros.remove(200)\n",
        "print(copia_numeros)"
      ]
    },
    {
      "cell_type": "markdown",
      "id": "8336c9bd-b65b-4b9d-98b5-3df00a18da7d",
      "metadata": {
        "id": "8336c9bd-b65b-4b9d-98b5-3df00a18da7d"
      },
      "source": [
        "Vamos verificar se houve alteração no tamanho da lista, realizar essa verificação é importante."
      ]
    },
    {
      "cell_type": "code",
      "execution_count": 27,
      "id": "07fbd5a3-cb1b-445a-8696-966ab7a468d6",
      "metadata": {
        "colab": {
          "base_uri": "https://localhost:8080/"
        },
        "id": "07fbd5a3-cb1b-445a-8696-966ab7a468d6",
        "outputId": "b4274b90-706b-4e8e-d4ca-a0fb45f17bdc"
      },
      "outputs": [
        {
          "output_type": "stream",
          "name": "stdout",
          "text": [
            "Tamanho da lista original: 30\n",
            "Tamanho da lista copiada: 28\n"
          ]
        }
      ],
      "source": [
        "print(f'Tamanho da lista original: {len(numeros)}') # tamanho da lista original\n",
        "print(f'Tamanho da lista copiada: {len(copia_numeros)}') # tamanho da lista copiada"
      ]
    },
    {
      "cell_type": "markdown",
      "id": "01966fc0-195b-49af-9449-e3c0a85b2854",
      "metadata": {
        "id": "01966fc0-195b-49af-9449-e3c0a85b2854"
      },
      "source": [
        "Agora vamos calcular a média normalmente"
      ]
    },
    {
      "cell_type": "code",
      "execution_count": 28,
      "id": "cc493e37-38bb-4c9d-b1ef-97d3b98121c3",
      "metadata": {
        "id": "cc493e37-38bb-4c9d-b1ef-97d3b98121c3"
      },
      "outputs": [],
      "source": [
        "soma = 0\n",
        "media = 0"
      ]
    },
    {
      "cell_type": "code",
      "execution_count": 29,
      "id": "db76d809-1220-4e43-8ef4-4c2eb79d1e7b",
      "metadata": {
        "colab": {
          "base_uri": "https://localhost:8080/"
        },
        "id": "db76d809-1220-4e43-8ef4-4c2eb79d1e7b",
        "outputId": "bab3f4db-9abe-4734-d548-91bf6d8b377a"
      },
      "outputs": [
        {
          "output_type": "stream",
          "name": "stdout",
          "text": [
            "16.04\n"
          ]
        }
      ],
      "source": [
        "for numero in copia_numeros:\n",
        "    soma += numero\n",
        "media = soma / len(copia_numeros)\n",
        "print(round(media,2))"
      ]
    },
    {
      "cell_type": "markdown",
      "id": "3ee3bc69-47fd-4db4-b027-484c5a167187",
      "metadata": {
        "id": "3ee3bc69-47fd-4db4-b027-484c5a167187"
      },
      "source": [
        "### Aplicando percentual de 6,66% na aparação dos valores da lista numeros\n",
        "Ao final podemos verificar que o resultado foi o mesmo, mas como dito anteriormente, o valor de aparação foi dado de forma manual. Existe alguns percentuais padrões de acordo com a análise, que devem ser levados em consideração. Abaixo eu coloco uma pequena tabela com esses valores."
      ]
    },
    {
      "cell_type": "code",
      "execution_count": 30,
      "id": "bd900d87-9aa7-4fd7-8981-afed41517135",
      "metadata": {
        "id": "bd900d87-9aa7-4fd7-8981-afed41517135"
      },
      "outputs": [],
      "source": [
        "n = 0\n",
        "k = 0"
      ]
    },
    {
      "cell_type": "code",
      "execution_count": 31,
      "id": "9b353330-cb71-4598-bf0d-7601de96fc24",
      "metadata": {
        "id": "9b353330-cb71-4598-bf0d-7601de96fc24"
      },
      "outputs": [],
      "source": [
        "n = len(numeros)\n",
        "k = int(0.0666 * n)"
      ]
    },
    {
      "cell_type": "code",
      "execution_count": 32,
      "id": "3ebea020-7ad5-4e7e-ac63-a58e6ef404dc",
      "metadata": {
        "id": "3ebea020-7ad5-4e7e-ac63-a58e6ef404dc"
      },
      "outputs": [],
      "source": [
        "dados_ordenados = sorted(numeros)\n",
        "aparados = dados_ordenados[k: n - k]"
      ]
    },
    {
      "cell_type": "code",
      "execution_count": 33,
      "id": "7f70d7ae-453f-4e91-bea6-e09b29222813",
      "metadata": {
        "id": "7f70d7ae-453f-4e91-bea6-e09b29222813"
      },
      "outputs": [],
      "source": [
        "soma = 0\n",
        "media = 0"
      ]
    },
    {
      "cell_type": "code",
      "execution_count": 34,
      "id": "f30a12a2-1d45-4930-8bf4-8eeb43b2a0d3",
      "metadata": {
        "colab": {
          "base_uri": "https://localhost:8080/"
        },
        "id": "f30a12a2-1d45-4930-8bf4-8eeb43b2a0d3",
        "outputId": "aecba6f8-5b04-4aa8-cc01-0ea5506f8e86"
      },
      "outputs": [
        {
          "output_type": "stream",
          "name": "stdout",
          "text": [
            "16.04\n"
          ]
        }
      ],
      "source": [
        "for valor in aparados:\n",
        "    soma += valor\n",
        "media = soma / len(aparados)\n",
        "print(round(media, 2))"
      ]
    },
    {
      "cell_type": "markdown",
      "id": "69f05ab7-a611-44b3-a613-9e938a8610c7",
      "metadata": {
        "id": "69f05ab7-a611-44b3-a613-9e938a8610c7"
      },
      "source": [
        "### Tabela com alguns percentuais de uso padrão para aparação, de acordo com a aplicação\n",
        "Os valores foram fornecidos e explicados pelo ChatGPT"
      ]
    },
    {
      "cell_type": "markdown",
      "id": "2d99a330-4fbb-47b4-b527-836a7ceb3e40",
      "metadata": {
        "id": "2d99a330-4fbb-47b4-b527-836a7ceb3e40"
      },
      "source": [
        "| Aplicação | Percentual |\n",
        "|-----------|------------|\n",
        "| Estatísica Descritiva | 2,5% a 5% |\n",
        "| Dados assimétricos | 10% a 20% |\n",
        "| Estudos muito sensíveis a extremos | 20% a 25% |"
      ]
    },
    {
      "cell_type": "markdown",
      "id": "07229847-4b57-4c75-8562-57ce55bf7831",
      "metadata": {
        "id": "07229847-4b57-4c75-8562-57ce55bf7831"
      },
      "source": [
        "### Executando o mesmo exemplo acima utilizando R puro sem funções internas ou bibliotecas externas\n",
        "\n",
        "Para utilizar o R em um Kernel Python3:\n",
        "\n",
        "1. instalar o pacote rpy2\n",
        "2. iniciar o comando %load_ext rpy2.ipython\n",
        "3. sempre que criar um código R é preciso iniciar a célula com %%R"
      ]
    },
    {
      "cell_type": "code",
      "execution_count": 35,
      "id": "37ddad76-d45d-4794-be39-2bf12c718257",
      "metadata": {
        "colab": {
          "base_uri": "https://localhost:8080/"
        },
        "id": "37ddad76-d45d-4794-be39-2bf12c718257",
        "outputId": "a435bc4f-8ca0-4d83-8391-089bee262cf5"
      },
      "outputs": [
        {
          "output_type": "stream",
          "name": "stdout",
          "text": [
            "Requirement already satisfied: rpy2 in /usr/local/lib/python3.12/dist-packages (3.5.17)\n",
            "Requirement already satisfied: cffi>=1.15.1 in /usr/local/lib/python3.12/dist-packages (from rpy2) (2.0.0)\n",
            "Requirement already satisfied: jinja2 in /usr/local/lib/python3.12/dist-packages (from rpy2) (3.1.6)\n",
            "Requirement already satisfied: tzlocal in /usr/local/lib/python3.12/dist-packages (from rpy2) (5.3.1)\n",
            "Requirement already satisfied: pycparser in /usr/local/lib/python3.12/dist-packages (from cffi>=1.15.1->rpy2) (2.23)\n",
            "Requirement already satisfied: MarkupSafe>=2.0 in /usr/local/lib/python3.12/dist-packages (from jinja2->rpy2) (3.0.3)\n"
          ]
        }
      ],
      "source": [
        "!pip install rpy2"
      ]
    },
    {
      "cell_type": "code",
      "execution_count": 36,
      "id": "74c4483a-e4cd-45f0-903a-07eb69b008ee",
      "metadata": {
        "colab": {
          "base_uri": "https://localhost:8080/"
        },
        "id": "74c4483a-e4cd-45f0-903a-07eb69b008ee",
        "outputId": "75769f37-540d-4097-f836-cdb881a1e81a"
      },
      "outputs": [
        {
          "output_type": "stream",
          "name": "stdout",
          "text": [
            "The rpy2.ipython extension is already loaded. To reload it, use:\n",
            "  %reload_ext rpy2.ipython\n"
          ]
        }
      ],
      "source": [
        "import os\n",
        "os.environ[\"RPY2_CFFI_MODE\"] = \"ABI\"\n",
        "%load_ext rpy2.ipython"
      ]
    },
    {
      "cell_type": "code",
      "execution_count": 37,
      "id": "8b87bf2e-02c4-4ab7-a1dd-496a8c374776",
      "metadata": {
        "colab": {
          "base_uri": "https://localhost:8080/"
        },
        "id": "8b87bf2e-02c4-4ab7-a1dd-496a8c374776",
        "outputId": "bba3f69a-b04c-4bed-f2db-fd9afe135ea1"
      },
      "outputs": [
        {
          "output_type": "stream",
          "name": "stdout",
          "text": [
            "[1] 19.96667\n"
          ]
        }
      ],
      "source": [
        "%%R\n",
        "dados <- c(12, 15, 14, 13, 16, 18, 20, 22, 19, 17, 14, 13, 15, 16, 200, 21, 23, 24, 22, 18, 17, 16, 15, 14, 13, 12, 11, 10, 9, -50)\n",
        "soma <- 0\n",
        "media <- 0\n",
        "for (dado in dados){\n",
        "    soma <- soma + dado\n",
        "}\n",
        "media <- soma/length(dados)\n",
        "print(media)"
      ]
    },
    {
      "cell_type": "code",
      "execution_count": 38,
      "id": "c99479ec-5949-4ef1-976f-b903dc39ffae",
      "metadata": {
        "id": "c99479ec-5949-4ef1-976f-b903dc39ffae"
      },
      "outputs": [],
      "source": [
        "%%R\n",
        "tamanho <- length(dados)\n",
        "aparacao <-as.integer( 0.0666 * tamanho)\n",
        "ordenados <- sort(dados)"
      ]
    },
    {
      "cell_type": "code",
      "execution_count": 39,
      "id": "569795d7-b212-43e1-a6e5-17706a207b2d",
      "metadata": {
        "colab": {
          "base_uri": "https://localhost:8080/"
        },
        "id": "569795d7-b212-43e1-a6e5-17706a207b2d",
        "outputId": "01f91bbe-4f6a-4ae4-c557-eb83814b89b2"
      },
      "outputs": [
        {
          "output_type": "stream",
          "name": "stdout",
          "text": [
            "[1] 16.03571\n"
          ]
        }
      ],
      "source": [
        "%%R\n",
        "tamanho_aparacao <- as.integer(tamanho - aparacao)\n",
        "dados_aparados <- ordenados[(aparacao + 1):(tamanho_aparacao)]\n",
        "\n",
        "soma_ap <- 0\n",
        "media_ap <- 0\n",
        "\n",
        "for(d in dados_aparados){\n",
        "    soma_ap <- soma_ap + d\n",
        "}\n",
        "media_ap <- soma_ap/length(dados_aparados)\n",
        "print(media_ap)"
      ]
    },
    {
      "cell_type": "markdown",
      "id": "c819255b-bdf4-4016-bc2c-70215efbb781",
      "metadata": {
        "id": "c819255b-bdf4-4016-bc2c-70215efbb781"
      },
      "source": [
        "### Análise dos resultados\n",
        "\n",
        "**Texto corrigido pelo ChatGPT:**\n",
        "\n",
        "Tanto em R quanto em Python, obtive o mesmo resultado para a média aritmética (19,97) e para a média aparada (16,03).\n",
        "\n",
        "A escolha de qual média utilizar na análise exploratória depende do contexto e das características dos dados. Existem casos em que valores extremos, ainda que fora do padrão, são relevantes e devem ser mantidos; em outros, sua presença pode distorcer significativamente as estimativas e comprometer a interpretação dos resultados.\n",
        "\n",
        "Por isso, recomendo calcular ambas as médias quando houver suspeita de outliers. Se optar por manter a média aritmética, é importante mencionar a existência dos valores extremos e mostrá-los visualmente, por exemplo, por meio de um boxplot.\n",
        "\n",
        "O que não é recomendável é apresentar a média como uma medida absoluta e representativa do conjunto de dados sem considerar outras estatísticas descritivas e a possível influência dos outliers.\n",
        "\n",
        "**Texto original:**\n",
        "\n",
        "Ambas linguagens R e Python deram o mesmo resultado para a média aritmética: 19.97 e média aparada: 16.03. Fica a pergunta: Qual média utilizar para continudade da análise exploratória? A resposta é: Depende da análise e dos dados, afinal há valores extremos que ainda sendo extremos é importante mantê-los, como há outros que sua permanência pode alterar significativamente os resultados posteriores. Aconselho realizar as duas médias se for o caso, e na escolha de manter a média aritmética faça referência aos outliers e os mostre visualmente pelo Boxplot. O que não recomendo é dar o média como valor absoluto e representativo dos dados, é preciso considerar outras medidas."
      ]
    },
    {
      "cell_type": "markdown",
      "id": "d7572e81-0239-4aa8-b064-21cd68f94ca6",
      "metadata": {
        "id": "d7572e81-0239-4aa8-b064-21cd68f94ca6"
      },
      "source": [
        "## Média Ponderada\n",
        "\n",
        "A média ponderada é  uma medida estatística que considera a relevância dos valores no cálculo da média, essa relevância é dada pelo pesos atribuídos a cada valor. Diferente da média aritmética, é a soma dos pesos que divide o resultado da soma ponderada (a soma dos produtos entre valor e peso). Abaixo eu calculo a soma ponderada em Python e em R, novamente as duas linguagens obtiveram os mesmo resultado."
      ]
    },
    {
      "cell_type": "markdown",
      "id": "3c6b9258-f405-4ff5-aca8-e5f298da0dd6",
      "metadata": {
        "id": "3c6b9258-f405-4ff5-aca8-e5f298da0dd6"
      },
      "source": [
        "### Abrindo arquivo csv em Python e transferindo os valores para duas listas"
      ]
    },
    {
      "cell_type": "code",
      "execution_count": 40,
      "id": "97d5b8d3-f24a-48ae-9340-db0102c38887",
      "metadata": {
        "id": "97d5b8d3-f24a-48ae-9340-db0102c38887"
      },
      "outputs": [],
      "source": [
        "valores = []\n",
        "pesos = []\n",
        "\n",
        "with open('peso_fixos.csv', 'r') as arquivo:\n",
        "    linhas = arquivo.readlines()\n",
        "\n",
        "    for linha in linhas[1:]:\n",
        "        valor, peso = linha.strip().split(\",\")\n",
        "        valores.append(float(valor))\n",
        "        pesos.append(float(peso))"
      ]
    },
    {
      "cell_type": "markdown",
      "id": "9a3cf91a-a8c9-4d6b-93ac-329454c28545",
      "metadata": {
        "id": "9a3cf91a-a8c9-4d6b-93ac-329454c28545"
      },
      "source": [
        "### Calculando a média ponderada em Python"
      ]
    },
    {
      "cell_type": "code",
      "execution_count": 41,
      "id": "398f81aa-99b9-4c04-bdb4-3a7630b05d65",
      "metadata": {
        "colab": {
          "base_uri": "https://localhost:8080/"
        },
        "id": "398f81aa-99b9-4c04-bdb4-3a7630b05d65",
        "outputId": "a4c5ab39-23f5-4342-bf06-b99eb5513dfd"
      },
      "outputs": [
        {
          "output_type": "stream",
          "name": "stdout",
          "text": [
            "16.33\n"
          ]
        }
      ],
      "source": [
        "soma_ponderada = 0\n",
        "soma_pesos = 0\n",
        "media_ponderada = 0\n",
        "\n",
        "for v in valores:\n",
        "    for p in pesos:\n",
        "        soma_ponderada += v * p\n",
        "        soma_pesos += p\n",
        "media_ponderada = soma_ponderada/soma_pesos\n",
        "print(round(media_ponderada,2))"
      ]
    },
    {
      "cell_type": "markdown",
      "id": "ea90c40a-a897-4203-8ead-601dca298e00",
      "metadata": {
        "id": "ea90c40a-a897-4203-8ead-601dca298e00"
      },
      "source": [
        "### Abrindo arquivo csv em R e transferindo para duas listas"
      ]
    },
    {
      "cell_type": "code",
      "execution_count": 42,
      "id": "ebc84a5f-50cb-4fc7-8014-6f35fc80384c",
      "metadata": {
        "id": "ebc84a5f-50cb-4fc7-8014-6f35fc80384c"
      },
      "outputs": [],
      "source": [
        "%%R\n",
        "valores_pesos <- read.csv('peso_fixos.csv',header = TRUE, sep=\",\")\n",
        "\n",
        "valores_r <- valores_pesos$valor\n",
        "pesos_r <- valores_pesos$peso"
      ]
    },
    {
      "cell_type": "markdown",
      "id": "c47cbd51-f4e3-4e66-bf69-8be108f054a4",
      "metadata": {
        "id": "c47cbd51-f4e3-4e66-bf69-8be108f054a4"
      },
      "source": [
        "### Calculando média ponderada em R"
      ]
    },
    {
      "cell_type": "code",
      "execution_count": 43,
      "id": "86c63b07-d15b-4052-95c5-2ab20dff3d15",
      "metadata": {
        "colab": {
          "base_uri": "https://localhost:8080/"
        },
        "id": "86c63b07-d15b-4052-95c5-2ab20dff3d15",
        "outputId": "b00d4e89-fdf8-4437-8b77-4d600e44cc28"
      },
      "outputs": [
        {
          "output_type": "stream",
          "name": "stdout",
          "text": [
            "[1] 16.33333\n"
          ]
        }
      ],
      "source": [
        "%%R\n",
        "soma_pd <- 0\n",
        "soma_ps <- 0\n",
        "media_pd <- 0\n",
        "\n",
        "for (vl in valores_r){\n",
        "    for (ps in pesos_r){\n",
        "        soma_pd <- soma_pd + (vl *ps)\n",
        "        soma_ps <- soma_ps + ps\n",
        "    }\n",
        "}\n",
        "\n",
        "media_pd <- soma_pd/soma_ps\n",
        "print(media_pd)"
      ]
    },
    {
      "cell_type": "markdown",
      "id": "358bffdb-d6eb-418b-94da-15df54f6a3ca",
      "metadata": {
        "id": "358bffdb-d6eb-418b-94da-15df54f6a3ca"
      },
      "source": [
        "## Mediana\n",
        "\n",
        "A mediana é uma das medidas das estimativas de localização, sendo muito utilizada em comparação com a média por ser robusta a outliers. Mesmo que eu tenha valores extremos o resultado da mediana não é atingido porque se trata do valor central que divide o conjunto de dados entre maiores que a mediana e menores que a mediana. O cálculo da mediana lida bem com conjunto de dados ímpares, sendo a mediana o valor central, mas também com conjuntos pares, sendo a mediana a média entre os dois valores centrais. Abaixo eu calculo a mediana em Python e em R, o mais interessante de ter feito a mediana em R é a descoberta de que a indexação em R começa em 1 e isso alterou um pouco a forma de acessar os valores centrais."
      ]
    },
    {
      "cell_type": "markdown",
      "id": "20dc510a-afd7-4fe6-af1a-7b5f52101cb3",
      "metadata": {
        "id": "20dc510a-afd7-4fe6-af1a-7b5f52101cb3"
      },
      "source": [
        "### Calculando mediana em Python"
      ]
    },
    {
      "cell_type": "code",
      "execution_count": 44,
      "id": "b3766c3b-c2c9-4eff-8c19-dd557327db58",
      "metadata": {
        "id": "b3766c3b-c2c9-4eff-8c19-dd557327db58"
      },
      "outputs": [],
      "source": [
        "numeros_ordenados = sorted(numeros)"
      ]
    },
    {
      "cell_type": "code",
      "execution_count": 45,
      "id": "29eab2c8-1f0c-4b0d-8007-f7e4bf08dbb7",
      "metadata": {
        "colab": {
          "base_uri": "https://localhost:8080/"
        },
        "id": "29eab2c8-1f0c-4b0d-8007-f7e4bf08dbb7",
        "outputId": "2733a64f-36db-4c5d-9f89-64ab478d4dda"
      },
      "outputs": [
        {
          "output_type": "stream",
          "name": "stdout",
          "text": [
            "15.5\n"
          ]
        }
      ],
      "source": [
        "def mediana(numeros):\n",
        "    t = len(numeros)\n",
        "    meio = t // 2\n",
        "    mediana = 0\n",
        "    if t % 2 == 0:\n",
        "        mediana = (numeros[meio - 1] + numeros[meio])/2\n",
        "    else:\n",
        "        mediana = numeros[meio]\n",
        "    return mediana\n",
        "print(mediana(numeros_ordenados))"
      ]
    },
    {
      "cell_type": "markdown",
      "id": "8f76775b-f530-438c-8d26-183904986bb0",
      "metadata": {
        "id": "8f76775b-f530-438c-8d26-183904986bb0"
      },
      "source": [
        "### Calculando mediana em R"
      ]
    },
    {
      "cell_type": "code",
      "execution_count": 46,
      "id": "4ba1bd74-3ebb-47dd-80dd-8a826a2535a0",
      "metadata": {
        "colab": {
          "base_uri": "https://localhost:8080/"
        },
        "id": "4ba1bd74-3ebb-47dd-80dd-8a826a2535a0",
        "outputId": "cd1207e4-e4c6-4d4c-f297-715db7a03524"
      },
      "outputs": [
        {
          "output_type": "stream",
          "name": "stdout",
          "text": [
            "[1] 15.5\n"
          ]
        }
      ],
      "source": [
        "%%R -i numeros_ordenados\n",
        "mediana <- function(numeros){\n",
        "    numeros <- as.numeric(numeros_ordenados)\n",
        "    t <- length(numeros)\n",
        "    meio <- t / 2\n",
        "    med <- 0\n",
        "    if(t %% 2 == 0){\n",
        "        med <- (numeros[meio] + numeros[meio + 1])/2\n",
        "    }else{\n",
        "        meio <- ceiling(meio)\n",
        "        med <- numeros[meio]\n",
        "    }\n",
        "    return(med)\n",
        "}\n",
        "mediana(numeros_ordenados)"
      ]
    },
    {
      "cell_type": "markdown",
      "id": "62c90ab9-8a9b-44b3-951b-fcd9c7cb3b4b",
      "metadata": {
        "id": "62c90ab9-8a9b-44b3-951b-fcd9c7cb3b4b"
      },
      "source": [
        "## Mediana Ponderada\n",
        "\n",
        "Usarei um trecho do livro em que o autor explica mediana ponderada e posteriormente explico como analisar o seu resultado, vamos ao trecho:\n",
        "\n",
        "\"_Em vez de um número central, a mediana ponderada é um valor cuja a soma dos pesos é igual para as metades superior e inferior da lista classificada_\""
      ]
    },
    {
      "cell_type": "markdown",
      "id": "b8fac9eb-8db5-48c7-b5be-27777848f254",
      "metadata": {
        "id": "b8fac9eb-8db5-48c7-b5be-27777848f254"
      },
      "source": [
        "### Calculando mediana ponderada em Python"
      ]
    },
    {
      "cell_type": "code",
      "execution_count": 47,
      "id": "9d9c785b-e752-48e6-becc-2b40eaf31fa9",
      "metadata": {
        "colab": {
          "base_uri": "https://localhost:8080/"
        },
        "id": "9d9c785b-e752-48e6-becc-2b40eaf31fa9",
        "outputId": "6ce3073c-45ff-40ad-b29c-1ddd73b5e0a2"
      },
      "outputs": [
        {
          "output_type": "execute_result",
          "data": {
            "text/plain": [
              "{10: 1, 12: 2, 15: 3, 18: 2, 20: 2}"
            ]
          },
          "metadata": {},
          "execution_count": 47
        }
      ],
      "source": [
        "dic_valores = {10: 1, 12: 2, 15: 3, 18: 2, 20: 2}\n",
        "dic_valores"
      ]
    },
    {
      "cell_type": "code",
      "execution_count": 48,
      "id": "ca83cc60-4fb0-4638-b25f-dc403cdf7aaf",
      "metadata": {
        "colab": {
          "base_uri": "https://localhost:8080/"
        },
        "id": "ca83cc60-4fb0-4638-b25f-dc403cdf7aaf",
        "outputId": "2da73609-cde9-4712-e05c-3170b8384f7e"
      },
      "outputs": [
        {
          "output_type": "stream",
          "name": "stdout",
          "text": [
            "Peso acumulado: 10\n",
            "Peso acumulado divido por dois: 5\n"
          ]
        }
      ],
      "source": [
        "sum_v = 0\n",
        "w = 0\n",
        "for v in dic_valores.values():\n",
        "    sum_v += v\n",
        "    w = sum_v // 2\n",
        "print(f'Peso acumulado: {sum_v}')\n",
        "print(f'Peso acumulado divido por dois: {w}')"
      ]
    },
    {
      "cell_type": "code",
      "execution_count": 49,
      "id": "04a95451-d053-479b-8411-5b5cdaffee6b",
      "metadata": {
        "colab": {
          "base_uri": "https://localhost:8080/"
        },
        "id": "04a95451-d053-479b-8411-5b5cdaffee6b",
        "outputId": "ee73fc27-b1c6-4a73-a70a-6fd38278856c"
      },
      "outputs": [
        {
          "output_type": "stream",
          "name": "stdout",
          "text": [
            "Mediana ponderada: 15\n",
            "6\n"
          ]
        }
      ],
      "source": [
        "acumula_pesos = 0\n",
        "mediana_ponderada = 0\n",
        "for val, ps in dic_valores.items():\n",
        "    acumula_pesos += ps\n",
        "    if acumula_pesos >= w:\n",
        "        mediana_ponderada = val\n",
        "        break\n",
        "print(f'Mediana ponderada: {mediana_ponderada}')\n",
        "print(acumula_pesos)"
      ]
    },
    {
      "cell_type": "markdown",
      "id": "5274aa46-007c-403d-9f09-3d653a67f2c8",
      "metadata": {
        "id": "5274aa46-007c-403d-9f09-3d653a67f2c8"
      },
      "source": [
        "### Compreendendo o resultado\n",
        "\n",
        "A mediana ponderada é 15 porque se olharmos o nosso conjunto de dados veremos que o peso acumulado é 10 e sua divião por 2 é 5, precisamos então encontrar nos dados o exato momento em que o valor 5 é atingido, se formos ver, até o 12 esse valor não é atingido porque a soma dos pesos da 4, logo quando chegamos ao 15 temos o resultado 5 atingido, sendo a soma dos pesos igual a 6, por isso o resultado é 15.\n",
        "\n",
        "Em caso de haver dois valores que atinjam a divisão do peso acumulado, podemos considerar o valor que o atinge primeiro, nesse caso supondo que 12 e 15 alcançasse 5, o resultado seria 12, porque é o primeiro valor que atinge a divisão do peso acumulado."
      ]
    },
    {
      "cell_type": "markdown",
      "id": "8165bf87-37d4-4a46-8cbb-0f575b06c47a",
      "metadata": {
        "id": "8165bf87-37d4-4a46-8cbb-0f575b06c47a"
      },
      "source": [
        "### Calculando mediana ponderada em R\n",
        "\n",
        "Em R não temos estruturas como dicionário em Python, uma das formas de simular estrutura chave e valor  é utilizando lista de forma que a chaves estejam entre aspas ou não sejam números, posteriormente atribuímos o valor a cada uma delas. Essa foi uma descoberta muito interessante e a forma como acessar os valores foi muito sutil utilizando o método names() e passando para ele o nome da lista. O restante do cálculo foi igual ao do Python. É muito bom trabalhar com duas linguagens opostas em sintaxe e estrutura de dados."
      ]
    },
    {
      "cell_type": "code",
      "execution_count": 50,
      "id": "3b1560f6-8654-4cc9-85c7-82a6d22b8444",
      "metadata": {
        "colab": {
          "base_uri": "https://localhost:8080/"
        },
        "id": "3b1560f6-8654-4cc9-85c7-82a6d22b8444",
        "outputId": "e0cc06a4-7c27-4f81-da3d-d90ce38a4bcc"
      },
      "outputs": [
        {
          "output_type": "stream",
          "name": "stdout",
          "text": [
            "$`10`\n",
            "[1] 1\n",
            "\n",
            "$`12`\n",
            "[1] 2\n",
            "\n",
            "$`15`\n",
            "[1] 3\n",
            "\n",
            "$`18`\n",
            "[1] 2\n",
            "\n",
            "$`20`\n",
            "[1] 2\n",
            "\n"
          ]
        }
      ],
      "source": [
        "%%R\n",
        "dados <- list(\"10\" = 1,\"12\" = 2, \"15\" = 3, \"18\" = 2, \"20\" = 2)\n",
        "dados"
      ]
    },
    {
      "cell_type": "code",
      "execution_count": 51,
      "id": "8f5c76bd-adc4-4fd9-b122-f511ca1843fd",
      "metadata": {
        "colab": {
          "base_uri": "https://localhost:8080/"
        },
        "id": "8f5c76bd-adc4-4fd9-b122-f511ca1843fd",
        "outputId": "963c8ad2-c2db-4fc0-d53f-0062a2b5965a"
      },
      "outputs": [
        {
          "output_type": "stream",
          "name": "stdout",
          "text": [
            "[1] 10\n",
            "[1] 5\n"
          ]
        }
      ],
      "source": [
        "%%R\n",
        "soma <- 0\n",
        "peso <- 0\n",
        "\n",
        "for(dado in names(dados)){\n",
        "  soma <- soma + dados[[dado]]\n",
        "  peso <- soma / 2\n",
        "}\n",
        "print(soma)\n",
        "print(peso)"
      ]
    },
    {
      "cell_type": "code",
      "execution_count": 52,
      "id": "a92a5780-4055-4ece-b174-f1efcfd7766d",
      "metadata": {
        "colab": {
          "base_uri": "https://localhost:8080/"
        },
        "id": "a92a5780-4055-4ece-b174-f1efcfd7766d",
        "outputId": "403f7cb3-d25d-4a27-c603-31abdb19cf3d"
      },
      "outputs": [
        {
          "output_type": "stream",
          "name": "stdout",
          "text": [
            "[1] \"15\"\n"
          ]
        }
      ],
      "source": [
        "%%R\n",
        "acum <- 0\n",
        "med_ponderada <- 0\n",
        "\n",
        "for(valor in names(dados)){\n",
        "  acum <- acum + dados[[valor]]\n",
        "  if(acum >= peso){\n",
        "    med_ponderada = valor\n",
        "    break\n",
        "  }\n",
        "}\n",
        "print(med_ponderada)"
      ]
    },
    {
      "cell_type": "markdown",
      "id": "cbd66c5f-8a39-4e3a-9626-3e43657e2f68",
      "metadata": {
        "id": "cbd66c5f-8a39-4e3a-9626-3e43657e2f68"
      },
      "source": [
        "## Análise da base de dados State sobre taxa de homícidio dada a população e o estado, em Python\n",
        "\n",
        "Nessa primeira fase da análise vamos extrair as seguintes estimativas de localização:\n",
        "\n",
        "1. Média\n",
        "2. Média Aparada com aparação de 10% dos dados\n",
        "3. Mediana\n",
        "4. Média Ponderada\n",
        "5. Mediana Ponderada\n",
        "\n",
        "_A ordem das estimativas segue a ordem do livro_\n",
        "\n",
        "Para essa análise precisei utilizar quatro bibliotecas, vamos a elas:\n",
        "\n",
        "1. Pandas para exploração inicial dos dados\n",
        "2. Numpy para cálculos da Média, Média Ponderada e Mediana\n",
        "3. Scipy importando o módulo Stats para cálculo da Média Aparada\n",
        "4. Wquantiles para o cálculo da Mediana Ponderada"
      ]
    },
    {
      "cell_type": "code",
      "execution_count": 53,
      "id": "ab5dc270-42ca-4bd9-b209-1d86ac7ec079",
      "metadata": {
        "id": "ab5dc270-42ca-4bd9-b209-1d86ac7ec079"
      },
      "outputs": [],
      "source": [
        "import pandas as pd\n",
        "import numpy as np"
      ]
    },
    {
      "cell_type": "code",
      "execution_count": 54,
      "id": "07c9384f-9bb9-4887-b37c-ffbd02dc44b0",
      "metadata": {
        "id": "07c9384f-9bb9-4887-b37c-ffbd02dc44b0"
      },
      "outputs": [],
      "source": [
        "from scipy import stats"
      ]
    },
    {
      "cell_type": "code",
      "execution_count": 55,
      "id": "84b26425-5591-4b7f-bccc-178471df8662",
      "metadata": {
        "colab": {
          "base_uri": "https://localhost:8080/",
          "height": 206
        },
        "id": "84b26425-5591-4b7f-bccc-178471df8662",
        "outputId": "6a1857de-7eb7-4991-e8e1-c16dd8f7bfdb"
      },
      "outputs": [
        {
          "output_type": "execute_result",
          "data": {
            "text/plain": [
              "        State  Population  Murder.Rate Abbreviation\n",
              "0     Alabama     4779736          5.7           AL\n",
              "1      Alaska      710231          5.6           AK\n",
              "2     Arizona     6392017          4.7           AZ\n",
              "3    Arkansas     2915918          5.6           AR\n",
              "4  California    37253956          4.4           CA"
            ],
            "text/html": [
              "\n",
              "  <div id=\"df-103d1955-ed28-41f8-97a0-060b24a3a7cb\" class=\"colab-df-container\">\n",
              "    <div>\n",
              "<style scoped>\n",
              "    .dataframe tbody tr th:only-of-type {\n",
              "        vertical-align: middle;\n",
              "    }\n",
              "\n",
              "    .dataframe tbody tr th {\n",
              "        vertical-align: top;\n",
              "    }\n",
              "\n",
              "    .dataframe thead th {\n",
              "        text-align: right;\n",
              "    }\n",
              "</style>\n",
              "<table border=\"1\" class=\"dataframe\">\n",
              "  <thead>\n",
              "    <tr style=\"text-align: right;\">\n",
              "      <th></th>\n",
              "      <th>State</th>\n",
              "      <th>Population</th>\n",
              "      <th>Murder.Rate</th>\n",
              "      <th>Abbreviation</th>\n",
              "    </tr>\n",
              "  </thead>\n",
              "  <tbody>\n",
              "    <tr>\n",
              "      <th>0</th>\n",
              "      <td>Alabama</td>\n",
              "      <td>4779736</td>\n",
              "      <td>5.7</td>\n",
              "      <td>AL</td>\n",
              "    </tr>\n",
              "    <tr>\n",
              "      <th>1</th>\n",
              "      <td>Alaska</td>\n",
              "      <td>710231</td>\n",
              "      <td>5.6</td>\n",
              "      <td>AK</td>\n",
              "    </tr>\n",
              "    <tr>\n",
              "      <th>2</th>\n",
              "      <td>Arizona</td>\n",
              "      <td>6392017</td>\n",
              "      <td>4.7</td>\n",
              "      <td>AZ</td>\n",
              "    </tr>\n",
              "    <tr>\n",
              "      <th>3</th>\n",
              "      <td>Arkansas</td>\n",
              "      <td>2915918</td>\n",
              "      <td>5.6</td>\n",
              "      <td>AR</td>\n",
              "    </tr>\n",
              "    <tr>\n",
              "      <th>4</th>\n",
              "      <td>California</td>\n",
              "      <td>37253956</td>\n",
              "      <td>4.4</td>\n",
              "      <td>CA</td>\n",
              "    </tr>\n",
              "  </tbody>\n",
              "</table>\n",
              "</div>\n",
              "    <div class=\"colab-df-buttons\">\n",
              "\n",
              "  <div class=\"colab-df-container\">\n",
              "    <button class=\"colab-df-convert\" onclick=\"convertToInteractive('df-103d1955-ed28-41f8-97a0-060b24a3a7cb')\"\n",
              "            title=\"Convert this dataframe to an interactive table.\"\n",
              "            style=\"display:none;\">\n",
              "\n",
              "  <svg xmlns=\"http://www.w3.org/2000/svg\" height=\"24px\" viewBox=\"0 -960 960 960\">\n",
              "    <path d=\"M120-120v-720h720v720H120Zm60-500h600v-160H180v160Zm220 220h160v-160H400v160Zm0 220h160v-160H400v160ZM180-400h160v-160H180v160Zm440 0h160v-160H620v160ZM180-180h160v-160H180v160Zm440 0h160v-160H620v160Z\"/>\n",
              "  </svg>\n",
              "    </button>\n",
              "\n",
              "  <style>\n",
              "    .colab-df-container {\n",
              "      display:flex;\n",
              "      gap: 12px;\n",
              "    }\n",
              "\n",
              "    .colab-df-convert {\n",
              "      background-color: #E8F0FE;\n",
              "      border: none;\n",
              "      border-radius: 50%;\n",
              "      cursor: pointer;\n",
              "      display: none;\n",
              "      fill: #1967D2;\n",
              "      height: 32px;\n",
              "      padding: 0 0 0 0;\n",
              "      width: 32px;\n",
              "    }\n",
              "\n",
              "    .colab-df-convert:hover {\n",
              "      background-color: #E2EBFA;\n",
              "      box-shadow: 0px 1px 2px rgba(60, 64, 67, 0.3), 0px 1px 3px 1px rgba(60, 64, 67, 0.15);\n",
              "      fill: #174EA6;\n",
              "    }\n",
              "\n",
              "    .colab-df-buttons div {\n",
              "      margin-bottom: 4px;\n",
              "    }\n",
              "\n",
              "    [theme=dark] .colab-df-convert {\n",
              "      background-color: #3B4455;\n",
              "      fill: #D2E3FC;\n",
              "    }\n",
              "\n",
              "    [theme=dark] .colab-df-convert:hover {\n",
              "      background-color: #434B5C;\n",
              "      box-shadow: 0px 1px 3px 1px rgba(0, 0, 0, 0.15);\n",
              "      filter: drop-shadow(0px 1px 2px rgba(0, 0, 0, 0.3));\n",
              "      fill: #FFFFFF;\n",
              "    }\n",
              "  </style>\n",
              "\n",
              "    <script>\n",
              "      const buttonEl =\n",
              "        document.querySelector('#df-103d1955-ed28-41f8-97a0-060b24a3a7cb button.colab-df-convert');\n",
              "      buttonEl.style.display =\n",
              "        google.colab.kernel.accessAllowed ? 'block' : 'none';\n",
              "\n",
              "      async function convertToInteractive(key) {\n",
              "        const element = document.querySelector('#df-103d1955-ed28-41f8-97a0-060b24a3a7cb');\n",
              "        const dataTable =\n",
              "          await google.colab.kernel.invokeFunction('convertToInteractive',\n",
              "                                                    [key], {});\n",
              "        if (!dataTable) return;\n",
              "\n",
              "        const docLinkHtml = 'Like what you see? Visit the ' +\n",
              "          '<a target=\"_blank\" href=https://colab.research.google.com/notebooks/data_table.ipynb>data table notebook</a>'\n",
              "          + ' to learn more about interactive tables.';\n",
              "        element.innerHTML = '';\n",
              "        dataTable['output_type'] = 'display_data';\n",
              "        await google.colab.output.renderOutput(dataTable, element);\n",
              "        const docLink = document.createElement('div');\n",
              "        docLink.innerHTML = docLinkHtml;\n",
              "        element.appendChild(docLink);\n",
              "      }\n",
              "    </script>\n",
              "  </div>\n",
              "\n",
              "\n",
              "    <div id=\"df-9c78e3b1-c280-4db3-a333-b16066a55690\">\n",
              "      <button class=\"colab-df-quickchart\" onclick=\"quickchart('df-9c78e3b1-c280-4db3-a333-b16066a55690')\"\n",
              "                title=\"Suggest charts\"\n",
              "                style=\"display:none;\">\n",
              "\n",
              "<svg xmlns=\"http://www.w3.org/2000/svg\" height=\"24px\"viewBox=\"0 0 24 24\"\n",
              "     width=\"24px\">\n",
              "    <g>\n",
              "        <path d=\"M19 3H5c-1.1 0-2 .9-2 2v14c0 1.1.9 2 2 2h14c1.1 0 2-.9 2-2V5c0-1.1-.9-2-2-2zM9 17H7v-7h2v7zm4 0h-2V7h2v10zm4 0h-2v-4h2v4z\"/>\n",
              "    </g>\n",
              "</svg>\n",
              "      </button>\n",
              "\n",
              "<style>\n",
              "  .colab-df-quickchart {\n",
              "      --bg-color: #E8F0FE;\n",
              "      --fill-color: #1967D2;\n",
              "      --hover-bg-color: #E2EBFA;\n",
              "      --hover-fill-color: #174EA6;\n",
              "      --disabled-fill-color: #AAA;\n",
              "      --disabled-bg-color: #DDD;\n",
              "  }\n",
              "\n",
              "  [theme=dark] .colab-df-quickchart {\n",
              "      --bg-color: #3B4455;\n",
              "      --fill-color: #D2E3FC;\n",
              "      --hover-bg-color: #434B5C;\n",
              "      --hover-fill-color: #FFFFFF;\n",
              "      --disabled-bg-color: #3B4455;\n",
              "      --disabled-fill-color: #666;\n",
              "  }\n",
              "\n",
              "  .colab-df-quickchart {\n",
              "    background-color: var(--bg-color);\n",
              "    border: none;\n",
              "    border-radius: 50%;\n",
              "    cursor: pointer;\n",
              "    display: none;\n",
              "    fill: var(--fill-color);\n",
              "    height: 32px;\n",
              "    padding: 0;\n",
              "    width: 32px;\n",
              "  }\n",
              "\n",
              "  .colab-df-quickchart:hover {\n",
              "    background-color: var(--hover-bg-color);\n",
              "    box-shadow: 0 1px 2px rgba(60, 64, 67, 0.3), 0 1px 3px 1px rgba(60, 64, 67, 0.15);\n",
              "    fill: var(--button-hover-fill-color);\n",
              "  }\n",
              "\n",
              "  .colab-df-quickchart-complete:disabled,\n",
              "  .colab-df-quickchart-complete:disabled:hover {\n",
              "    background-color: var(--disabled-bg-color);\n",
              "    fill: var(--disabled-fill-color);\n",
              "    box-shadow: none;\n",
              "  }\n",
              "\n",
              "  .colab-df-spinner {\n",
              "    border: 2px solid var(--fill-color);\n",
              "    border-color: transparent;\n",
              "    border-bottom-color: var(--fill-color);\n",
              "    animation:\n",
              "      spin 1s steps(1) infinite;\n",
              "  }\n",
              "\n",
              "  @keyframes spin {\n",
              "    0% {\n",
              "      border-color: transparent;\n",
              "      border-bottom-color: var(--fill-color);\n",
              "      border-left-color: var(--fill-color);\n",
              "    }\n",
              "    20% {\n",
              "      border-color: transparent;\n",
              "      border-left-color: var(--fill-color);\n",
              "      border-top-color: var(--fill-color);\n",
              "    }\n",
              "    30% {\n",
              "      border-color: transparent;\n",
              "      border-left-color: var(--fill-color);\n",
              "      border-top-color: var(--fill-color);\n",
              "      border-right-color: var(--fill-color);\n",
              "    }\n",
              "    40% {\n",
              "      border-color: transparent;\n",
              "      border-right-color: var(--fill-color);\n",
              "      border-top-color: var(--fill-color);\n",
              "    }\n",
              "    60% {\n",
              "      border-color: transparent;\n",
              "      border-right-color: var(--fill-color);\n",
              "    }\n",
              "    80% {\n",
              "      border-color: transparent;\n",
              "      border-right-color: var(--fill-color);\n",
              "      border-bottom-color: var(--fill-color);\n",
              "    }\n",
              "    90% {\n",
              "      border-color: transparent;\n",
              "      border-bottom-color: var(--fill-color);\n",
              "    }\n",
              "  }\n",
              "</style>\n",
              "\n",
              "      <script>\n",
              "        async function quickchart(key) {\n",
              "          const quickchartButtonEl =\n",
              "            document.querySelector('#' + key + ' button');\n",
              "          quickchartButtonEl.disabled = true;  // To prevent multiple clicks.\n",
              "          quickchartButtonEl.classList.add('colab-df-spinner');\n",
              "          try {\n",
              "            const charts = await google.colab.kernel.invokeFunction(\n",
              "                'suggestCharts', [key], {});\n",
              "          } catch (error) {\n",
              "            console.error('Error during call to suggestCharts:', error);\n",
              "          }\n",
              "          quickchartButtonEl.classList.remove('colab-df-spinner');\n",
              "          quickchartButtonEl.classList.add('colab-df-quickchart-complete');\n",
              "        }\n",
              "        (() => {\n",
              "          let quickchartButtonEl =\n",
              "            document.querySelector('#df-9c78e3b1-c280-4db3-a333-b16066a55690 button');\n",
              "          quickchartButtonEl.style.display =\n",
              "            google.colab.kernel.accessAllowed ? 'block' : 'none';\n",
              "        })();\n",
              "      </script>\n",
              "    </div>\n",
              "\n",
              "    </div>\n",
              "  </div>\n"
            ],
            "application/vnd.google.colaboratory.intrinsic+json": {
              "type": "dataframe",
              "variable_name": "df",
              "summary": "{\n  \"name\": \"df\",\n  \"rows\": 50,\n  \"fields\": [\n    {\n      \"column\": \"State\",\n      \"properties\": {\n        \"dtype\": \"string\",\n        \"num_unique_values\": 50,\n        \"samples\": [\n          \"Indiana\",\n          \"South Carolina\",\n          \"New Mexico\"\n        ],\n        \"semantic_type\": \"\",\n        \"description\": \"\"\n      }\n    },\n    {\n      \"column\": \"Population\",\n      \"properties\": {\n        \"dtype\": \"number\",\n        \"std\": 6848235,\n        \"min\": 563626,\n        \"max\": 37253956,\n        \"num_unique_values\": 50,\n        \"samples\": [\n          6483802,\n          4625364,\n          2059179\n        ],\n        \"semantic_type\": \"\",\n        \"description\": \"\"\n      }\n    },\n    {\n      \"column\": \"Murder.Rate\",\n      \"properties\": {\n        \"dtype\": \"number\",\n        \"std\": 1.915736124302923,\n        \"min\": 0.9,\n        \"max\": 10.3,\n        \"num_unique_values\": 34,\n        \"samples\": [\n          1.6,\n          6.6,\n          4.0\n        ],\n        \"semantic_type\": \"\",\n        \"description\": \"\"\n      }\n    },\n    {\n      \"column\": \"Abbreviation\",\n      \"properties\": {\n        \"dtype\": \"string\",\n        \"num_unique_values\": 50,\n        \"samples\": [\n          \"IN\",\n          \"SC\",\n          \"NM\"\n        ],\n        \"semantic_type\": \"\",\n        \"description\": \"\"\n      }\n    }\n  ]\n}"
            }
          },
          "metadata": {},
          "execution_count": 55
        }
      ],
      "source": [
        "df = pd.read_csv('state.csv')\n",
        "df.head()"
      ]
    },
    {
      "cell_type": "code",
      "execution_count": 56,
      "id": "215958a5-55b5-4bea-95fc-a03102774244",
      "metadata": {
        "colab": {
          "base_uri": "https://localhost:8080/"
        },
        "id": "215958a5-55b5-4bea-95fc-a03102774244",
        "outputId": "bcaeb973-9ce9-4f10-cebb-a6fd1f247bb4"
      },
      "outputs": [
        {
          "output_type": "execute_result",
          "data": {
            "text/plain": [
              "(50, 4)"
            ]
          },
          "metadata": {},
          "execution_count": 56
        }
      ],
      "source": [
        "df.shape"
      ]
    },
    {
      "cell_type": "code",
      "execution_count": 57,
      "id": "4d70adbd-ea19-46e5-9807-d683354ec977",
      "metadata": {
        "colab": {
          "base_uri": "https://localhost:8080/",
          "height": 209
        },
        "id": "4d70adbd-ea19-46e5-9807-d683354ec977",
        "outputId": "70188beb-d442-4cfa-eae7-31cbc4e660aa"
      },
      "outputs": [
        {
          "output_type": "execute_result",
          "data": {
            "text/plain": [
              "State           0\n",
              "Population      0\n",
              "Murder.Rate     0\n",
              "Abbreviation    0\n",
              "dtype: int64"
            ],
            "text/html": [
              "<div>\n",
              "<style scoped>\n",
              "    .dataframe tbody tr th:only-of-type {\n",
              "        vertical-align: middle;\n",
              "    }\n",
              "\n",
              "    .dataframe tbody tr th {\n",
              "        vertical-align: top;\n",
              "    }\n",
              "\n",
              "    .dataframe thead th {\n",
              "        text-align: right;\n",
              "    }\n",
              "</style>\n",
              "<table border=\"1\" class=\"dataframe\">\n",
              "  <thead>\n",
              "    <tr style=\"text-align: right;\">\n",
              "      <th></th>\n",
              "      <th>0</th>\n",
              "    </tr>\n",
              "  </thead>\n",
              "  <tbody>\n",
              "    <tr>\n",
              "      <th>State</th>\n",
              "      <td>0</td>\n",
              "    </tr>\n",
              "    <tr>\n",
              "      <th>Population</th>\n",
              "      <td>0</td>\n",
              "    </tr>\n",
              "    <tr>\n",
              "      <th>Murder.Rate</th>\n",
              "      <td>0</td>\n",
              "    </tr>\n",
              "    <tr>\n",
              "      <th>Abbreviation</th>\n",
              "      <td>0</td>\n",
              "    </tr>\n",
              "  </tbody>\n",
              "</table>\n",
              "</div><br><label><b>dtype:</b> int64</label>"
            ]
          },
          "metadata": {},
          "execution_count": 57
        }
      ],
      "source": [
        "df.isnull().sum()"
      ]
    },
    {
      "cell_type": "code",
      "execution_count": 58,
      "id": "12499705-3e09-43a7-9de3-138d23d07e09",
      "metadata": {
        "colab": {
          "base_uri": "https://localhost:8080/",
          "height": 209
        },
        "id": "12499705-3e09-43a7-9de3-138d23d07e09",
        "outputId": "0314b3a3-d9cf-4207-b6e0-b84e25fcbfe1"
      },
      "outputs": [
        {
          "output_type": "execute_result",
          "data": {
            "text/plain": [
              "State            object\n",
              "Population        int64\n",
              "Murder.Rate     float64\n",
              "Abbreviation     object\n",
              "dtype: object"
            ],
            "text/html": [
              "<div>\n",
              "<style scoped>\n",
              "    .dataframe tbody tr th:only-of-type {\n",
              "        vertical-align: middle;\n",
              "    }\n",
              "\n",
              "    .dataframe tbody tr th {\n",
              "        vertical-align: top;\n",
              "    }\n",
              "\n",
              "    .dataframe thead th {\n",
              "        text-align: right;\n",
              "    }\n",
              "</style>\n",
              "<table border=\"1\" class=\"dataframe\">\n",
              "  <thead>\n",
              "    <tr style=\"text-align: right;\">\n",
              "      <th></th>\n",
              "      <th>0</th>\n",
              "    </tr>\n",
              "  </thead>\n",
              "  <tbody>\n",
              "    <tr>\n",
              "      <th>State</th>\n",
              "      <td>object</td>\n",
              "    </tr>\n",
              "    <tr>\n",
              "      <th>Population</th>\n",
              "      <td>int64</td>\n",
              "    </tr>\n",
              "    <tr>\n",
              "      <th>Murder.Rate</th>\n",
              "      <td>float64</td>\n",
              "    </tr>\n",
              "    <tr>\n",
              "      <th>Abbreviation</th>\n",
              "      <td>object</td>\n",
              "    </tr>\n",
              "  </tbody>\n",
              "</table>\n",
              "</div><br><label><b>dtype:</b> object</label>"
            ]
          },
          "metadata": {},
          "execution_count": 58
        }
      ],
      "source": [
        "df.dtypes"
      ]
    },
    {
      "cell_type": "code",
      "execution_count": 59,
      "id": "dbd86745-2569-446c-ba17-a78fd276e3c2",
      "metadata": {
        "colab": {
          "base_uri": "https://localhost:8080/"
        },
        "id": "dbd86745-2569-446c-ba17-a78fd276e3c2",
        "outputId": "12ddbbc6-a61b-4fcb-96f1-15c0d2e4b669"
      },
      "outputs": [
        {
          "output_type": "stream",
          "name": "stdout",
          "text": [
            "<class 'pandas.core.frame.DataFrame'>\n",
            "RangeIndex: 50 entries, 0 to 49\n",
            "Data columns (total 4 columns):\n",
            " #   Column        Non-Null Count  Dtype  \n",
            "---  ------        --------------  -----  \n",
            " 0   State         50 non-null     object \n",
            " 1   Population    50 non-null     int64  \n",
            " 2   Murder.Rate   50 non-null     float64\n",
            " 3   Abbreviation  50 non-null     object \n",
            "dtypes: float64(1), int64(1), object(2)\n",
            "memory usage: 1.7+ KB\n"
          ]
        }
      ],
      "source": [
        "df.info()"
      ]
    },
    {
      "cell_type": "code",
      "execution_count": 60,
      "id": "0bffcab2-73ad-4bea-b153-2fb7591b8412",
      "metadata": {
        "colab": {
          "base_uri": "https://localhost:8080/",
          "height": 300
        },
        "id": "0bffcab2-73ad-4bea-b153-2fb7591b8412",
        "outputId": "cc287daf-81b3-4a26-cfd9-06b00fb0d0c9"
      },
      "outputs": [
        {
          "output_type": "execute_result",
          "data": {
            "text/plain": [
              "         Population  Murder.Rate\n",
              "count  5.000000e+01    50.000000\n",
              "mean   6.162876e+06     4.066000\n",
              "std    6.848235e+06     1.915736\n",
              "min    5.636260e+05     0.900000\n",
              "25%    1.833004e+06     2.425000\n",
              "50%    4.436370e+06     4.000000\n",
              "75%    6.680312e+06     5.550000\n",
              "max    3.725396e+07    10.300000"
            ],
            "text/html": [
              "\n",
              "  <div id=\"df-22c5cd74-4354-4ce4-91a4-2d1c6729c287\" class=\"colab-df-container\">\n",
              "    <div>\n",
              "<style scoped>\n",
              "    .dataframe tbody tr th:only-of-type {\n",
              "        vertical-align: middle;\n",
              "    }\n",
              "\n",
              "    .dataframe tbody tr th {\n",
              "        vertical-align: top;\n",
              "    }\n",
              "\n",
              "    .dataframe thead th {\n",
              "        text-align: right;\n",
              "    }\n",
              "</style>\n",
              "<table border=\"1\" class=\"dataframe\">\n",
              "  <thead>\n",
              "    <tr style=\"text-align: right;\">\n",
              "      <th></th>\n",
              "      <th>Population</th>\n",
              "      <th>Murder.Rate</th>\n",
              "    </tr>\n",
              "  </thead>\n",
              "  <tbody>\n",
              "    <tr>\n",
              "      <th>count</th>\n",
              "      <td>5.000000e+01</td>\n",
              "      <td>50.000000</td>\n",
              "    </tr>\n",
              "    <tr>\n",
              "      <th>mean</th>\n",
              "      <td>6.162876e+06</td>\n",
              "      <td>4.066000</td>\n",
              "    </tr>\n",
              "    <tr>\n",
              "      <th>std</th>\n",
              "      <td>6.848235e+06</td>\n",
              "      <td>1.915736</td>\n",
              "    </tr>\n",
              "    <tr>\n",
              "      <th>min</th>\n",
              "      <td>5.636260e+05</td>\n",
              "      <td>0.900000</td>\n",
              "    </tr>\n",
              "    <tr>\n",
              "      <th>25%</th>\n",
              "      <td>1.833004e+06</td>\n",
              "      <td>2.425000</td>\n",
              "    </tr>\n",
              "    <tr>\n",
              "      <th>50%</th>\n",
              "      <td>4.436370e+06</td>\n",
              "      <td>4.000000</td>\n",
              "    </tr>\n",
              "    <tr>\n",
              "      <th>75%</th>\n",
              "      <td>6.680312e+06</td>\n",
              "      <td>5.550000</td>\n",
              "    </tr>\n",
              "    <tr>\n",
              "      <th>max</th>\n",
              "      <td>3.725396e+07</td>\n",
              "      <td>10.300000</td>\n",
              "    </tr>\n",
              "  </tbody>\n",
              "</table>\n",
              "</div>\n",
              "    <div class=\"colab-df-buttons\">\n",
              "\n",
              "  <div class=\"colab-df-container\">\n",
              "    <button class=\"colab-df-convert\" onclick=\"convertToInteractive('df-22c5cd74-4354-4ce4-91a4-2d1c6729c287')\"\n",
              "            title=\"Convert this dataframe to an interactive table.\"\n",
              "            style=\"display:none;\">\n",
              "\n",
              "  <svg xmlns=\"http://www.w3.org/2000/svg\" height=\"24px\" viewBox=\"0 -960 960 960\">\n",
              "    <path d=\"M120-120v-720h720v720H120Zm60-500h600v-160H180v160Zm220 220h160v-160H400v160Zm0 220h160v-160H400v160ZM180-400h160v-160H180v160Zm440 0h160v-160H620v160ZM180-180h160v-160H180v160Zm440 0h160v-160H620v160Z\"/>\n",
              "  </svg>\n",
              "    </button>\n",
              "\n",
              "  <style>\n",
              "    .colab-df-container {\n",
              "      display:flex;\n",
              "      gap: 12px;\n",
              "    }\n",
              "\n",
              "    .colab-df-convert {\n",
              "      background-color: #E8F0FE;\n",
              "      border: none;\n",
              "      border-radius: 50%;\n",
              "      cursor: pointer;\n",
              "      display: none;\n",
              "      fill: #1967D2;\n",
              "      height: 32px;\n",
              "      padding: 0 0 0 0;\n",
              "      width: 32px;\n",
              "    }\n",
              "\n",
              "    .colab-df-convert:hover {\n",
              "      background-color: #E2EBFA;\n",
              "      box-shadow: 0px 1px 2px rgba(60, 64, 67, 0.3), 0px 1px 3px 1px rgba(60, 64, 67, 0.15);\n",
              "      fill: #174EA6;\n",
              "    }\n",
              "\n",
              "    .colab-df-buttons div {\n",
              "      margin-bottom: 4px;\n",
              "    }\n",
              "\n",
              "    [theme=dark] .colab-df-convert {\n",
              "      background-color: #3B4455;\n",
              "      fill: #D2E3FC;\n",
              "    }\n",
              "\n",
              "    [theme=dark] .colab-df-convert:hover {\n",
              "      background-color: #434B5C;\n",
              "      box-shadow: 0px 1px 3px 1px rgba(0, 0, 0, 0.15);\n",
              "      filter: drop-shadow(0px 1px 2px rgba(0, 0, 0, 0.3));\n",
              "      fill: #FFFFFF;\n",
              "    }\n",
              "  </style>\n",
              "\n",
              "    <script>\n",
              "      const buttonEl =\n",
              "        document.querySelector('#df-22c5cd74-4354-4ce4-91a4-2d1c6729c287 button.colab-df-convert');\n",
              "      buttonEl.style.display =\n",
              "        google.colab.kernel.accessAllowed ? 'block' : 'none';\n",
              "\n",
              "      async function convertToInteractive(key) {\n",
              "        const element = document.querySelector('#df-22c5cd74-4354-4ce4-91a4-2d1c6729c287');\n",
              "        const dataTable =\n",
              "          await google.colab.kernel.invokeFunction('convertToInteractive',\n",
              "                                                    [key], {});\n",
              "        if (!dataTable) return;\n",
              "\n",
              "        const docLinkHtml = 'Like what you see? Visit the ' +\n",
              "          '<a target=\"_blank\" href=https://colab.research.google.com/notebooks/data_table.ipynb>data table notebook</a>'\n",
              "          + ' to learn more about interactive tables.';\n",
              "        element.innerHTML = '';\n",
              "        dataTable['output_type'] = 'display_data';\n",
              "        await google.colab.output.renderOutput(dataTable, element);\n",
              "        const docLink = document.createElement('div');\n",
              "        docLink.innerHTML = docLinkHtml;\n",
              "        element.appendChild(docLink);\n",
              "      }\n",
              "    </script>\n",
              "  </div>\n",
              "\n",
              "\n",
              "    <div id=\"df-20aec17b-e3cc-4a0a-9a15-8523add9dc18\">\n",
              "      <button class=\"colab-df-quickchart\" onclick=\"quickchart('df-20aec17b-e3cc-4a0a-9a15-8523add9dc18')\"\n",
              "                title=\"Suggest charts\"\n",
              "                style=\"display:none;\">\n",
              "\n",
              "<svg xmlns=\"http://www.w3.org/2000/svg\" height=\"24px\"viewBox=\"0 0 24 24\"\n",
              "     width=\"24px\">\n",
              "    <g>\n",
              "        <path d=\"M19 3H5c-1.1 0-2 .9-2 2v14c0 1.1.9 2 2 2h14c1.1 0 2-.9 2-2V5c0-1.1-.9-2-2-2zM9 17H7v-7h2v7zm4 0h-2V7h2v10zm4 0h-2v-4h2v4z\"/>\n",
              "    </g>\n",
              "</svg>\n",
              "      </button>\n",
              "\n",
              "<style>\n",
              "  .colab-df-quickchart {\n",
              "      --bg-color: #E8F0FE;\n",
              "      --fill-color: #1967D2;\n",
              "      --hover-bg-color: #E2EBFA;\n",
              "      --hover-fill-color: #174EA6;\n",
              "      --disabled-fill-color: #AAA;\n",
              "      --disabled-bg-color: #DDD;\n",
              "  }\n",
              "\n",
              "  [theme=dark] .colab-df-quickchart {\n",
              "      --bg-color: #3B4455;\n",
              "      --fill-color: #D2E3FC;\n",
              "      --hover-bg-color: #434B5C;\n",
              "      --hover-fill-color: #FFFFFF;\n",
              "      --disabled-bg-color: #3B4455;\n",
              "      --disabled-fill-color: #666;\n",
              "  }\n",
              "\n",
              "  .colab-df-quickchart {\n",
              "    background-color: var(--bg-color);\n",
              "    border: none;\n",
              "    border-radius: 50%;\n",
              "    cursor: pointer;\n",
              "    display: none;\n",
              "    fill: var(--fill-color);\n",
              "    height: 32px;\n",
              "    padding: 0;\n",
              "    width: 32px;\n",
              "  }\n",
              "\n",
              "  .colab-df-quickchart:hover {\n",
              "    background-color: var(--hover-bg-color);\n",
              "    box-shadow: 0 1px 2px rgba(60, 64, 67, 0.3), 0 1px 3px 1px rgba(60, 64, 67, 0.15);\n",
              "    fill: var(--button-hover-fill-color);\n",
              "  }\n",
              "\n",
              "  .colab-df-quickchart-complete:disabled,\n",
              "  .colab-df-quickchart-complete:disabled:hover {\n",
              "    background-color: var(--disabled-bg-color);\n",
              "    fill: var(--disabled-fill-color);\n",
              "    box-shadow: none;\n",
              "  }\n",
              "\n",
              "  .colab-df-spinner {\n",
              "    border: 2px solid var(--fill-color);\n",
              "    border-color: transparent;\n",
              "    border-bottom-color: var(--fill-color);\n",
              "    animation:\n",
              "      spin 1s steps(1) infinite;\n",
              "  }\n",
              "\n",
              "  @keyframes spin {\n",
              "    0% {\n",
              "      border-color: transparent;\n",
              "      border-bottom-color: var(--fill-color);\n",
              "      border-left-color: var(--fill-color);\n",
              "    }\n",
              "    20% {\n",
              "      border-color: transparent;\n",
              "      border-left-color: var(--fill-color);\n",
              "      border-top-color: var(--fill-color);\n",
              "    }\n",
              "    30% {\n",
              "      border-color: transparent;\n",
              "      border-left-color: var(--fill-color);\n",
              "      border-top-color: var(--fill-color);\n",
              "      border-right-color: var(--fill-color);\n",
              "    }\n",
              "    40% {\n",
              "      border-color: transparent;\n",
              "      border-right-color: var(--fill-color);\n",
              "      border-top-color: var(--fill-color);\n",
              "    }\n",
              "    60% {\n",
              "      border-color: transparent;\n",
              "      border-right-color: var(--fill-color);\n",
              "    }\n",
              "    80% {\n",
              "      border-color: transparent;\n",
              "      border-right-color: var(--fill-color);\n",
              "      border-bottom-color: var(--fill-color);\n",
              "    }\n",
              "    90% {\n",
              "      border-color: transparent;\n",
              "      border-bottom-color: var(--fill-color);\n",
              "    }\n",
              "  }\n",
              "</style>\n",
              "\n",
              "      <script>\n",
              "        async function quickchart(key) {\n",
              "          const quickchartButtonEl =\n",
              "            document.querySelector('#' + key + ' button');\n",
              "          quickchartButtonEl.disabled = true;  // To prevent multiple clicks.\n",
              "          quickchartButtonEl.classList.add('colab-df-spinner');\n",
              "          try {\n",
              "            const charts = await google.colab.kernel.invokeFunction(\n",
              "                'suggestCharts', [key], {});\n",
              "          } catch (error) {\n",
              "            console.error('Error during call to suggestCharts:', error);\n",
              "          }\n",
              "          quickchartButtonEl.classList.remove('colab-df-spinner');\n",
              "          quickchartButtonEl.classList.add('colab-df-quickchart-complete');\n",
              "        }\n",
              "        (() => {\n",
              "          let quickchartButtonEl =\n",
              "            document.querySelector('#df-20aec17b-e3cc-4a0a-9a15-8523add9dc18 button');\n",
              "          quickchartButtonEl.style.display =\n",
              "            google.colab.kernel.accessAllowed ? 'block' : 'none';\n",
              "        })();\n",
              "      </script>\n",
              "    </div>\n",
              "\n",
              "    </div>\n",
              "  </div>\n"
            ],
            "application/vnd.google.colaboratory.intrinsic+json": {
              "type": "dataframe",
              "summary": "{\n  \"name\": \"df\",\n  \"rows\": 8,\n  \"fields\": [\n    {\n      \"column\": \"Population\",\n      \"properties\": {\n        \"dtype\": \"number\",\n        \"std\": 12143552.805767782,\n        \"min\": 50.0,\n        \"max\": 37253956.0,\n        \"num_unique_values\": 8,\n        \"samples\": [\n          6162876.3,\n          4436369.5,\n          50.0\n        ],\n        \"semantic_type\": \"\",\n        \"description\": \"\"\n      }\n    },\n    {\n      \"column\": \"Murder.Rate\",\n      \"properties\": {\n        \"dtype\": \"number\",\n        \"std\": 16.46017669001848,\n        \"min\": 0.9,\n        \"max\": 50.0,\n        \"num_unique_values\": 8,\n        \"samples\": [\n          4.066,\n          4.0,\n          50.0\n        ],\n        \"semantic_type\": \"\",\n        \"description\": \"\"\n      }\n    }\n  ]\n}"
            }
          },
          "metadata": {},
          "execution_count": 60
        }
      ],
      "source": [
        "df.describe()"
      ]
    },
    {
      "cell_type": "markdown",
      "id": "7635d361-5253-42e4-b7d8-0f3201d294f9",
      "metadata": {
        "id": "7635d361-5253-42e4-b7d8-0f3201d294f9"
      },
      "source": [
        "## Primeiras observações e estimativas de localização\n",
        "\n",
        "Não possuimos dados nulos nem dados que necessitam de tratamento, todos estão em tipos de dados adequados para cálculos estatísticos ou manipulação de strings (no caso de dados do tipo Object)\n",
        "\n",
        "Abaixo temos o cálculo das estimativas de localização"
      ]
    },
    {
      "cell_type": "code",
      "execution_count": 61,
      "id": "55daf99a-3809-48f2-ad58-98e4f78c2206",
      "metadata": {
        "colab": {
          "base_uri": "https://localhost:8080/"
        },
        "id": "55daf99a-3809-48f2-ad58-98e4f78c2206",
        "outputId": "78c2dc91-25fe-4411-b9b0-ab6bd00c2cad"
      },
      "outputs": [
        {
          "output_type": "execute_result",
          "data": {
            "text/plain": [
              "np.float64(6162876.3)"
            ]
          },
          "metadata": {},
          "execution_count": 61
        }
      ],
      "source": [
        "# Média\n",
        "np.mean(df[\"Population\"])"
      ]
    },
    {
      "cell_type": "code",
      "execution_count": 62,
      "id": "2f472115-4c40-4b59-87e8-c6dcde0c1a44",
      "metadata": {
        "colab": {
          "base_uri": "https://localhost:8080/"
        },
        "id": "2f472115-4c40-4b59-87e8-c6dcde0c1a44",
        "outputId": "38e12606-380e-4c4a-968e-312777d98548"
      },
      "outputs": [
        {
          "output_type": "execute_result",
          "data": {
            "text/plain": [
              "np.float64(4783697.125)"
            ]
          },
          "metadata": {},
          "execution_count": 62
        }
      ],
      "source": [
        "# Média Aparada\n",
        "stats.trim_mean(df[\"Population\"], 0.1)"
      ]
    },
    {
      "cell_type": "code",
      "execution_count": 63,
      "id": "3410d7c6-e6db-42a5-82f8-5e7196ab0c89",
      "metadata": {
        "colab": {
          "base_uri": "https://localhost:8080/"
        },
        "id": "3410d7c6-e6db-42a5-82f8-5e7196ab0c89",
        "outputId": "f89dfbb7-edbc-440f-e660-70cc824071be"
      },
      "outputs": [
        {
          "output_type": "execute_result",
          "data": {
            "text/plain": [
              "np.float64(4.445833981123393)"
            ]
          },
          "metadata": {},
          "execution_count": 63
        }
      ],
      "source": [
        "# Média Ponderada\n",
        "np.average(df[\"Murder.Rate\"],None,df[\"Population\"])"
      ]
    },
    {
      "cell_type": "code",
      "execution_count": 64,
      "id": "e750568b-c3b9-48d9-9aa5-60222c665777",
      "metadata": {
        "colab": {
          "base_uri": "https://localhost:8080/"
        },
        "id": "e750568b-c3b9-48d9-9aa5-60222c665777",
        "outputId": "48d44b44-0719-4e27-b9ab-071bcaee9ab9"
      },
      "outputs": [
        {
          "output_type": "execute_result",
          "data": {
            "text/plain": [
              "np.float64(4436369.5)"
            ]
          },
          "metadata": {},
          "execution_count": 64
        }
      ],
      "source": [
        "# Mediana\n",
        "np.median(df[\"Population\"])"
      ]
    },
    {
      "cell_type": "code",
      "execution_count": 65,
      "id": "e8113437-2fc2-4c4f-8eb2-22f444badf9f",
      "metadata": {
        "colab": {
          "base_uri": "https://localhost:8080/"
        },
        "id": "e8113437-2fc2-4c4f-8eb2-22f444badf9f",
        "outputId": "6813b40b-a189-4b04-bb25-4e7193a6501d"
      },
      "outputs": [
        {
          "output_type": "stream",
          "name": "stdout",
          "text": [
            "Collecting wquantiles\n",
            "  Downloading wquantiles-0.6-py3-none-any.whl.metadata (1.1 kB)\n",
            "Requirement already satisfied: numpy>=1.18 in /usr/local/lib/python3.12/dist-packages (from wquantiles) (2.0.2)\n",
            "Downloading wquantiles-0.6-py3-none-any.whl (3.3 kB)\n",
            "Installing collected packages: wquantiles\n",
            "Successfully installed wquantiles-0.6\n"
          ]
        }
      ],
      "source": [
        "!pip install wquantiles"
      ]
    },
    {
      "cell_type": "code",
      "execution_count": 66,
      "id": "2bc0f057-8caa-478d-9ab4-d442eb2a1851",
      "metadata": {
        "colab": {
          "base_uri": "https://localhost:8080/"
        },
        "id": "2bc0f057-8caa-478d-9ab4-d442eb2a1851",
        "outputId": "1d0a633a-4b74-4a95-be3e-7c1e11f70e58"
      },
      "outputs": [
        {
          "output_type": "execute_result",
          "data": {
            "text/plain": [
              "np.float64(4.4)"
            ]
          },
          "metadata": {},
          "execution_count": 66
        }
      ],
      "source": [
        "# Mediana Ponderada\n",
        "import wquantiles\n",
        "wquantiles.median(df[\"Murder.Rate\"], df[\"Population\"])"
      ]
    },
    {
      "cell_type": "markdown",
      "id": "0ec4f90f-26e4-43f8-b2c5-f1e7260aa361",
      "metadata": {
        "id": "0ec4f90f-26e4-43f8-b2c5-f1e7260aa361"
      },
      "source": [
        "## Análise da base de dados State sobre taxa de homícidio dada a população e o estado, em R\n",
        "\n",
        "Nessa primeira fase da análise vamos extrair as seguintes estimativas de localização:\n",
        "\n",
        "1. Média\n",
        "2. Média Aparada com aparação de 10% dos dados\n",
        "4. Mediana\n",
        "5. Média Ponderada\n",
        "6. Mediana Ponderada\n",
        "\n",
        "_A ordem das estimativas segue a ordem do livro_\n",
        "\n",
        "A linguagem R possui pacotes e funções estatísticas internas que facilitam o cálculo das estimativas tanto que apenas precisei instalar um pacote externo: MatrixStats para calcular a Mediana Ponderada. Isso é incrível!"
      ]
    },
    {
      "cell_type": "code",
      "execution_count": 67,
      "id": "a41b09d8-dff4-4601-85dc-52d5f0c141f7",
      "metadata": {
        "colab": {
          "base_uri": "https://localhost:8080/"
        },
        "id": "a41b09d8-dff4-4601-85dc-52d5f0c141f7",
        "outputId": "9d53c7f6-8efb-44c6-e729-0e5a476b254c"
      },
      "outputs": [
        {
          "output_type": "stream",
          "name": "stdout",
          "text": [
            "[1] 6162876\n"
          ]
        }
      ],
      "source": [
        "%%R -i df\n",
        "#Média em R\n",
        "mean(df$Population)"
      ]
    },
    {
      "cell_type": "code",
      "execution_count": 68,
      "id": "b93545f6-a371-4981-9505-df98c8414626",
      "metadata": {
        "colab": {
          "base_uri": "https://localhost:8080/"
        },
        "id": "b93545f6-a371-4981-9505-df98c8414626",
        "outputId": "f166c7cb-4612-42a0-c745-b0d85eb5ed00"
      },
      "outputs": [
        {
          "output_type": "stream",
          "name": "stdout",
          "text": [
            "[1] 4783697\n"
          ]
        }
      ],
      "source": [
        "%%R\n",
        "# Média Aparada em R\n",
        "mean(df$Population, trim=0.1)"
      ]
    },
    {
      "cell_type": "code",
      "execution_count": 69,
      "id": "713c21e9-099c-4f96-aa31-44cd0ebdceac",
      "metadata": {
        "colab": {
          "base_uri": "https://localhost:8080/"
        },
        "id": "713c21e9-099c-4f96-aa31-44cd0ebdceac",
        "outputId": "57a86053-0c17-44a1-c398-d2dd909b8dd1"
      },
      "outputs": [
        {
          "output_type": "stream",
          "name": "stdout",
          "text": [
            "[1] 4436370\n"
          ]
        }
      ],
      "source": [
        "%%R\n",
        "# Mediana e R\n",
        "median(df$Population)"
      ]
    },
    {
      "cell_type": "code",
      "execution_count": 70,
      "id": "cc431f62-bd21-48aa-a21d-aa6a068ae419",
      "metadata": {
        "colab": {
          "base_uri": "https://localhost:8080/"
        },
        "id": "cc431f62-bd21-48aa-a21d-aa6a068ae419",
        "outputId": "dc78d205-8e70-4621-967e-1447fce9f221"
      },
      "outputs": [
        {
          "output_type": "stream",
          "name": "stdout",
          "text": [
            "[1] 4.445834\n"
          ]
        }
      ],
      "source": [
        "%%R\n",
        "# Média Ponderada em R\n",
        "weighted.mean(df[[\"Murder.Rate\"]], w=df[[\"Population\"]])"
      ]
    },
    {
      "cell_type": "code",
      "execution_count": 71,
      "id": "4ea0a970-ac8e-42b0-b766-a5dfb4a47ebe",
      "metadata": {
        "colab": {
          "base_uri": "https://localhost:8080/",
          "height": 191
        },
        "id": "4ea0a970-ac8e-42b0-b766-a5dfb4a47ebe",
        "outputId": "355e4652-a76a-40e4-b8ab-bd9e03693e8c"
      },
      "outputs": [
        {
          "output_type": "display_data",
          "data": {
            "text/plain": [
              "Installing package into ‘/usr/local/lib/R/site-library’\n",
              "(as ‘lib’ is unspecified)\n",
              "trying URL 'https://cran.rstudio.com/src/contrib/matrixStats_1.5.0.tar.gz'\n",
              "Content type 'application/x-gzip' length 212156 bytes (207 KB)\n",
              "==================================================\n",
              "downloaded 207 KB\n",
              "\n",
              "\n",
              "The downloaded source packages are in\n",
              "\t‘/tmp/Rtmp4nUo6d/downloaded_packages’\n"
            ]
          },
          "metadata": {}
        }
      ],
      "source": [
        "%%R\n",
        "install.packages(\"matrixStats\")"
      ]
    },
    {
      "cell_type": "code",
      "execution_count": 72,
      "id": "2f2ff018-f097-4372-851e-d63b6cddcdde",
      "metadata": {
        "colab": {
          "base_uri": "https://localhost:8080/"
        },
        "id": "2f2ff018-f097-4372-851e-d63b6cddcdde",
        "outputId": "7846e915-7f38-4cf9-d8de-818eda117912"
      },
      "outputs": [
        {
          "output_type": "stream",
          "name": "stdout",
          "text": [
            "[1] 4.4\n"
          ]
        }
      ],
      "source": [
        "%%R\n",
        "library(\"matrixStats\")\n",
        "# Mediana Ponderada em R\n",
        "weightedMedian(df[[\"Murder.Rate\"]], w=df[[\"Population\"]])"
      ]
    },
    {
      "cell_type": "markdown",
      "id": "941cc678-d12f-4ab0-b11f-999757ef3f4e",
      "metadata": {
        "id": "941cc678-d12f-4ab0-b11f-999757ef3f4e"
      },
      "source": [
        "## Estimativa de Variabilidade\n",
        "\n",
        "Após encontramos as estimativas de localização (tendência central) que nos informa qual valor divide o nosso conjunto de dados entre valores inferiores e superiores, precisamos compreender o quanto eles se dispersam deste valor central. É neste momento que aplicamos as estimativas de variabilidde  (dispersão), sendo as mais comuns: variância, desvio padrão e medidas baseadas em percentis. Vamos compreendê-las com um conjunto de dados simples e posteriormente com a base State."
      ]
    },
    {
      "cell_type": "markdown",
      "id": "704778a8-f286-410b-9d17-69c99bbf1310",
      "metadata": {
        "id": "704778a8-f286-410b-9d17-69c99bbf1310"
      },
      "source": [
        "### Estimativas baseadas no desvio\n",
        "\n",
        "O cálculo do desvio nos informa o quanto os dados estão se desviando da média. É uma medida sensível a outliers, contudo é mais preferível do que a variância. No livro o autor mostra três formas de calcular o desvio, são elas:\n",
        "\n",
        "1. Desvio Absoluto Médio: A soma das diferenças entre os valores e a média\n",
        "2. Desvio Absoluto Mediano: A mediana dos desvios\n",
        "3. Desvio Padrão: Raiz quadrada da variância.\n",
        "4. Variância (Amostral): A soma das diferenças entre os valores e a média elevada ao quadrado e posteriormente dividida pela quantidade de elementos - 1\n",
        "\n",
        "_Como usaremos a lib Numpy passaremos os dados diretamente, mas em caso de cálculo manual é preciso calcular a variância antes de calcular o desvio padrão._"
      ]
    },
    {
      "cell_type": "markdown",
      "id": "36344756-64a0-401b-97f4-6427c741645a",
      "metadata": {
        "id": "36344756-64a0-401b-97f4-6427c741645a"
      },
      "source": [
        "**Desvio Absoluto Médio**"
      ]
    },
    {
      "cell_type": "code",
      "execution_count": 73,
      "id": "7ea1e97f-b28e-417b-ad66-77b672c9143b",
      "metadata": {
        "colab": {
          "base_uri": "https://localhost:8080/"
        },
        "id": "7ea1e97f-b28e-417b-ad66-77b672c9143b",
        "outputId": "4de17ddd-be7b-460e-a8c8-853ed935568a"
      },
      "outputs": [
        {
          "output_type": "execute_result",
          "data": {
            "text/plain": [
              "np.float64(4.0)"
            ]
          },
          "metadata": {},
          "execution_count": 73
        }
      ],
      "source": [
        "dados = [1,4,4]\n",
        "\n",
        "media = np.mean(dados)\n",
        "\n",
        "def stdMedio(dados):\n",
        "    dif = 0\n",
        "    for x in dados:\n",
        "        dif += (abs(x - media))\n",
        "    return dif\n",
        "\n",
        "round(stdMedio(dados),2)"
      ]
    },
    {
      "cell_type": "markdown",
      "id": "708436b9-9471-4a15-94cb-54f9ef67ff90",
      "metadata": {
        "id": "708436b9-9471-4a15-94cb-54f9ef67ff90"
      },
      "source": [
        "**Desvio Absoluto Mediano**"
      ]
    },
    {
      "cell_type": "code",
      "execution_count": 74,
      "id": "c8e2f52f-81d5-45e1-9cd3-5484c6dcd21d",
      "metadata": {
        "colab": {
          "base_uri": "https://localhost:8080/"
        },
        "id": "c8e2f52f-81d5-45e1-9cd3-5484c6dcd21d",
        "outputId": "26784631-4e56-4f3d-bcdb-ce90a60e630e"
      },
      "outputs": [
        {
          "output_type": "execute_result",
          "data": {
            "text/plain": [
              "np.float64(1.0)"
            ]
          },
          "metadata": {},
          "execution_count": 74
        }
      ],
      "source": [
        "dados = [1,1,2,2,4,6,9]\n",
        "mediana = np.median(dados)\n",
        "\n",
        "def stdMediano(mediana, dados):\n",
        "    dif = []\n",
        "    for x in dados:\n",
        "        dif.append(abs(x - mediana))\n",
        "    return dif\n",
        "\n",
        "stdMediano = stdMediano(mediana, dados)\n",
        "np.median(stdMediano)"
      ]
    },
    {
      "cell_type": "markdown",
      "id": "3531e1b1-8c3c-43d8-9f28-dec124072021",
      "metadata": {
        "id": "3531e1b1-8c3c-43d8-9f28-dec124072021"
      },
      "source": [
        "**Desvio Padrão**"
      ]
    },
    {
      "cell_type": "code",
      "execution_count": 75,
      "id": "6c1736db-4195-4006-974a-ac1684a26a93",
      "metadata": {
        "colab": {
          "base_uri": "https://localhost:8080/"
        },
        "id": "6c1736db-4195-4006-974a-ac1684a26a93",
        "outputId": "e4944869-fe4c-4c3f-8491-9ff347fda538"
      },
      "outputs": [
        {
          "output_type": "execute_result",
          "data": {
            "text/plain": [
              "np.float64(2.99)"
            ]
          },
          "metadata": {},
          "execution_count": 75
        }
      ],
      "source": [
        "# o ddof permite que trabalhemos como desvio padrão amostral\n",
        "round(np.std(dados, ddof = 1),2)"
      ]
    },
    {
      "cell_type": "markdown",
      "id": "39181ca6-1dda-49db-aafd-8915893e9cca",
      "metadata": {
        "id": "39181ca6-1dda-49db-aafd-8915893e9cca"
      },
      "source": [
        "## Estimativas baseadas em Percentis\n",
        "\n",
        "Anteriormente, falamos sobre as estimativas baseadas em desvio. Uma das aplicações desse tipo de análise é o estudo do desempenho de turmas em um exame. Quando as médias estão muito dispersas em relação à média central, podemos afirmar que os resultados foram mais heterogêneos do que homogêneos, indicando uma distribuição assimétrica. Essa informação nos leva a investigar as possíveis causas da dispersão. Trata-se de um exemplo simples, mas que ilustra bem a utilidade das estimativas de dispersão.\n",
        "\n",
        "Agora, vamos abordar as estimativas baseadas em **percentis**, que estão relacionadas à forma como os dados se distribuem. Elas são mais bem interpretadas por meio de visualizações, como o **Boxplot**, que evidencia a existência de *outliers* e mostra como os dados se concentram em torno da **mediana** (ou segundo quartil, 50%).\n",
        "\n",
        "A seguir, analisamos o cálculo da **amplitude interquartil (AIQ)**, uma medida mais robusta do que a amplitude simples — que representa apenas a diferença entre o maior e o menor valor do conjunto. A amplitude simples é sensível a valores extremos, enquanto a amplitude interquartil considera apenas os dados entre o primeiro (Q1) e o terceiro quartil (Q3), eliminando uma proporção dos valores mais baixos e mais altos. Dessa forma, obtemos uma medida mais estável de dispersão.\n",
        "\n",
        "A tabela abaixo, que elaborei a partir dos dados fornecidos pelo autor, mostra o particionamento dos dados, as medianas de cada parte e a diferença entre Q3 e Q1. Logo abaixo, apresento os resultados obtidos pelos cálculos manuais e pelas funções de bibliotecas do **Python** e do **R**. Observa-se que há pequenas diferenças entre os resultados.\n",
        "\n",
        "Essas diferenças não significam que um método esteja certo e o outro errado. Na prática, utilizamos os valores retornados pelas funções padrão, mas é possível ajustar o método de cada biblioteca para reproduzir o cálculo manual. A variação ocorre porque existem diversas formas de calcular a amplitude interquartil — assim como há diferentes métodos para calcular uma raiz quadrada. Como o próprio autor destaca, não devemos nos preocupar com isso: basta compreender que os métodos variam e que essa diferença é natural."
      ]
    },
    {
      "cell_type": "code",
      "execution_count": 76,
      "id": "e3ff870b-2b54-4142-b845-4e443afc5098",
      "metadata": {
        "colab": {
          "base_uri": "https://localhost:8080/"
        },
        "id": "e3ff870b-2b54-4142-b845-4e443afc5098",
        "outputId": "00653d86-2658-4512-cd91-0290b9764a73"
      },
      "outputs": [
        {
          "output_type": "execute_result",
          "data": {
            "text/plain": [
              "np.float64(4.0)"
            ]
          },
          "metadata": {},
          "execution_count": 76
        }
      ],
      "source": [
        "dados = [1,2,3,3,5,6,7,9]\n",
        "\n",
        "Q1 = dados[0:4] # 25%\n",
        "Q2 = np.median(dados) # 50%\n",
        "Q3 = dados[4:] # 75%\n",
        "\n",
        "mediana_Q1, mediana_Q3 = np.median(Q1), np.median(Q3)\n",
        "\n",
        "# Amplitude Interquartil\n",
        "IQR = mediana_Q3 - mediana_Q1\n",
        "IQR"
      ]
    },
    {
      "cell_type": "markdown",
      "id": "38c36d5b-02aa-4c0e-8dd0-c3c534c8dacb",
      "metadata": {
        "id": "38c36d5b-02aa-4c0e-8dd0-c3c534c8dacb"
      },
      "source": [
        "**Amplitude Interquartil com Numpy**"
      ]
    },
    {
      "cell_type": "code",
      "execution_count": 77,
      "id": "1ce510b1-d49f-4f23-aee0-f95998f6251e",
      "metadata": {
        "colab": {
          "base_uri": "https://localhost:8080/"
        },
        "id": "1ce510b1-d49f-4f23-aee0-f95998f6251e",
        "outputId": "2c920a00-5589-4eec-ae7a-da2fa2b9d135"
      },
      "outputs": [
        {
          "output_type": "execute_result",
          "data": {
            "text/plain": [
              "np.float64(3.5)"
            ]
          },
          "metadata": {},
          "execution_count": 77
        }
      ],
      "source": [
        "Q3, Q1 = np.percentile(dados, q=[75,25])\n",
        "IQR = Q3 - Q1\n",
        "IQR"
      ]
    },
    {
      "cell_type": "markdown",
      "id": "bce4bf21-948c-4fcd-b71f-924faccc6a5a",
      "metadata": {
        "id": "bce4bf21-948c-4fcd-b71f-924faccc6a5a"
      },
      "source": [
        "**Amplitude Interquartil com Pandas**"
      ]
    },
    {
      "cell_type": "code",
      "execution_count": 78,
      "id": "8eed1f09-62ca-4e53-b4bf-e8c6a2acc2cb",
      "metadata": {
        "colab": {
          "base_uri": "https://localhost:8080/"
        },
        "id": "8eed1f09-62ca-4e53-b4bf-e8c6a2acc2cb",
        "outputId": "b41370c9-20c0-4a80-8d78-56c78d786d6c"
      },
      "outputs": [
        {
          "output_type": "execute_result",
          "data": {
            "text/plain": [
              "np.float64(3.5)"
            ]
          },
          "metadata": {},
          "execution_count": 78
        }
      ],
      "source": [
        "valores = pd.Series(dados)\n",
        "Q3, Q1 = valores.quantile(0.75), valores.quantile(0.25)\n",
        "IQR  = Q3 - Q1\n",
        "IQR"
      ]
    },
    {
      "cell_type": "markdown",
      "id": "4baced28-fc56-4116-9c53-ded10faf5fc6",
      "metadata": {
        "id": "4baced28-fc56-4116-9c53-ded10faf5fc6"
      },
      "source": [
        "**Amplitude Interquartil com Scipy**"
      ]
    },
    {
      "cell_type": "code",
      "execution_count": 79,
      "id": "b6867ee3-779d-4df4-926d-c0915e6e7cda",
      "metadata": {
        "colab": {
          "base_uri": "https://localhost:8080/"
        },
        "id": "b6867ee3-779d-4df4-926d-c0915e6e7cda",
        "outputId": "03972546-62f2-41bd-c159-f5267cfc48a8"
      },
      "outputs": [
        {
          "output_type": "execute_result",
          "data": {
            "text/plain": [
              "np.float64(3.5)"
            ]
          },
          "metadata": {},
          "execution_count": 79
        }
      ],
      "source": [
        "from scipy import stats\n",
        "stats.iqr(dados)"
      ]
    },
    {
      "cell_type": "markdown",
      "id": "3c5fe2dc-afdf-4a05-9d6e-02b4a7a81ecb",
      "metadata": {
        "id": "3c5fe2dc-afdf-4a05-9d6e-02b4a7a81ecb"
      },
      "source": [
        "**Amplitude Interquartil com R**"
      ]
    },
    {
      "cell_type": "code",
      "execution_count": 80,
      "id": "b9f0463c-d50c-4211-8bf7-1aa2bbdd452b",
      "metadata": {
        "colab": {
          "base_uri": "https://localhost:8080/"
        },
        "id": "b9f0463c-d50c-4211-8bf7-1aa2bbdd452b",
        "outputId": "8a369d9f-dc8e-428b-bedf-9a224df65e16"
      },
      "outputs": [
        {
          "output_type": "stream",
          "name": "stdout",
          "text": [
            "[1] 3.5\n"
          ]
        }
      ],
      "source": [
        "%%R -i dados\n",
        "\n",
        "IQR(dados)"
      ]
    },
    {
      "cell_type": "markdown",
      "id": "3531c250-029f-4da0-90f2-d2f0f28db991",
      "metadata": {
        "id": "3531c250-029f-4da0-90f2-d2f0f28db991"
      },
      "source": [
        "## Aplicando as estimativas de variabilidade na base State em Python\n",
        "\n",
        "Para essa análise serão aplicadas apenas as medidas de:\n",
        "\n",
        "1. Desvio Padrão\n",
        "2. Desvio Absoluto Mediano\n",
        "3. Amplitude Interquartil\n",
        "\n",
        "_A aplicação das medidas foi de escolha do autor_"
      ]
    },
    {
      "cell_type": "code",
      "execution_count": 81,
      "id": "2a5b075f-2cbf-4ff8-af55-dc10fbf20c64",
      "metadata": {
        "colab": {
          "base_uri": "https://localhost:8080/"
        },
        "id": "2a5b075f-2cbf-4ff8-af55-dc10fbf20c64",
        "outputId": "950718ad-86bd-4da9-cd17-a54d5574529c"
      },
      "outputs": [
        {
          "output_type": "execute_result",
          "data": {
            "text/plain": [
              "6848235.347401142"
            ]
          },
          "metadata": {},
          "execution_count": 81
        }
      ],
      "source": [
        "# Desvio Padrão\n",
        "np.std(df[\"Population\"], ddof=1)"
      ]
    },
    {
      "cell_type": "code",
      "execution_count": 82,
      "id": "a64434fd-3dc1-4bd0-9603-3165578679ec",
      "metadata": {
        "colab": {
          "base_uri": "https://localhost:8080/"
        },
        "id": "a64434fd-3dc1-4bd0-9603-3165578679ec",
        "outputId": "1ce12e75-f105-4157-aee4-040d4a5ec952"
      },
      "outputs": [
        {
          "output_type": "execute_result",
          "data": {
            "text/plain": [
              "np.float64(2596702.0)"
            ]
          },
          "metadata": {},
          "execution_count": 82
        }
      ],
      "source": [
        "# Desvio Absoluto Mediano\n",
        "stats.median_abs_deviation(df[\"Population\"])"
      ]
    },
    {
      "cell_type": "code",
      "execution_count": 83,
      "id": "d7535da2-5a9c-46fc-a8ff-dce2efa79e0b",
      "metadata": {
        "colab": {
          "base_uri": "https://localhost:8080/"
        },
        "id": "d7535da2-5a9c-46fc-a8ff-dce2efa79e0b",
        "outputId": "f93df28c-5a7b-43c3-d29b-41680abe788f"
      },
      "outputs": [
        {
          "output_type": "execute_result",
          "data": {
            "text/plain": [
              "np.float64(4847308.0)"
            ]
          },
          "metadata": {},
          "execution_count": 83
        }
      ],
      "source": [
        "# Amplitude Interquartil\n",
        "stats.iqr(df[\"Population\"])"
      ]
    },
    {
      "cell_type": "markdown",
      "id": "d4d6d9db-b307-453e-9520-3e54b3b92b5e",
      "metadata": {
        "id": "d4d6d9db-b307-453e-9520-3e54b3b92b5e"
      },
      "source": [
        "## Aplicando as estimativas de variabilidade na base State em R\n",
        "\n",
        "Para essa análise serão aplicadas apenas as medidas de:\n",
        "\n",
        "1. Desvio Padrão\n",
        "2. Desvio Absoluto Mediano\n",
        "3. Amplitude Interquartil\n",
        "\n",
        "_A aplicação das medidas foi de escolha do autor_"
      ]
    },
    {
      "cell_type": "code",
      "execution_count": 84,
      "id": "1667b706-9a85-42d6-8d21-9448a3f98412",
      "metadata": {
        "colab": {
          "base_uri": "https://localhost:8080/"
        },
        "id": "1667b706-9a85-42d6-8d21-9448a3f98412",
        "outputId": "efae4753-8818-4b52-85ea-be4f91c5668f"
      },
      "outputs": [
        {
          "output_type": "stream",
          "name": "stdout",
          "text": [
            "[1] 6848235\n"
          ]
        }
      ],
      "source": [
        "%%R\n",
        "# Desvio Padrão\n",
        "sd(df$Population)"
      ]
    },
    {
      "cell_type": "code",
      "execution_count": 85,
      "id": "71c8baf6-c58c-4a76-9db7-bcaedffe955f",
      "metadata": {
        "colab": {
          "base_uri": "https://localhost:8080/"
        },
        "id": "71c8baf6-c58c-4a76-9db7-bcaedffe955f",
        "outputId": "3f153613-ea33-4c4e-afed-52ae984cf504"
      },
      "outputs": [
        {
          "output_type": "stream",
          "name": "stdout",
          "text": [
            "[1] 3849870\n"
          ]
        }
      ],
      "source": [
        "%%R\n",
        "# Desvio Absoluto Mediano\n",
        "mad(df$Population)"
      ]
    },
    {
      "cell_type": "code",
      "execution_count": 86,
      "id": "00acbbc5-2247-44c9-a252-7a0af990d6e8",
      "metadata": {
        "colab": {
          "base_uri": "https://localhost:8080/"
        },
        "id": "00acbbc5-2247-44c9-a252-7a0af990d6e8",
        "outputId": "44ef87f5-3637-4f19-e95f-50636f46d4a1"
      },
      "outputs": [
        {
          "output_type": "stream",
          "name": "stdout",
          "text": [
            "[1] 4847308\n"
          ]
        }
      ],
      "source": [
        "%%R\n",
        "# Amplitude Interquartil\n",
        "IQR(df$Population)"
      ]
    },
    {
      "cell_type": "code",
      "execution_count": null,
      "id": "83d50472-8218-4ab6-907c-1e5cc54508c9",
      "metadata": {
        "id": "83d50472-8218-4ab6-907c-1e5cc54508c9"
      },
      "outputs": [],
      "source": []
    }
  ],
  "metadata": {
    "kernelspec": {
      "display_name": "Python 3 (ipykernel)",
      "language": "python",
      "name": "python3"
    },
    "language_info": {
      "codemirror_mode": {
        "name": "ipython",
        "version": 3
      },
      "file_extension": ".py",
      "mimetype": "text/x-python",
      "name": "python",
      "nbconvert_exporter": "python",
      "pygments_lexer": "ipython3",
      "version": "3.13.7"
    },
    "colab": {
      "provenance": [],
      "include_colab_link": true
    }
  },
  "nbformat": 4,
  "nbformat_minor": 5
}